{
 "cells": [
  {
   "cell_type": "code",
   "execution_count": null,
   "id": "dac94a13",
   "metadata": {},
   "outputs": [],
   "source": [
    "import pandas as pd\n",
    "import numpy as np\n",
    "from sklearn import preprocessing\n",
    "from sklearn.preprocessing import MinMaxScaler\n",
    "from sklearn.model_selection import train_test_split\n",
    "import geopandas as gpd"
   ]
  },
  {
   "cell_type": "markdown",
   "id": "ee15f4b6",
   "metadata": {},
   "source": [
    "# process all the data for \"the_year\" and save yearly master data  "
   ]
  },
  {
   "cell_type": "code",
   "execution_count": 33,
   "id": "2db94975",
   "metadata": {},
   "outputs": [],
   "source": [
    "the_year = 2019"
   ]
  },
  {
   "cell_type": "code",
   "execution_count": 34,
   "id": "b9cebe2f",
   "metadata": {},
   "outputs": [],
   "source": [
    "separate_data_folder = '../../data/point_data/separate_data/'\n",
    "collated_data_folder = '../../data/point_data/collated_data/'"
   ]
  },
  {
   "attachments": {},
   "cell_type": "markdown",
   "id": "4400e1ae",
   "metadata": {},
   "source": [
    "# get different data modalities: controls, outcomes and enviornmental"
   ]
  },
  {
   "cell_type": "code",
   "execution_count": 35,
   "id": "c4d7edaa",
   "metadata": {},
   "outputs": [
    {
     "data": {
      "text/plain": [
       "(35672, 35672, 35672, 35672)"
      ]
     },
     "execution_count": 35,
     "metadata": {},
     "output_type": "execute_result"
    }
   ],
   "source": [
    "controls = pd.read_csv(separate_data_folder + 'controls.csv')\n",
    "# replace quotes in column names\n",
    "controls.columns = controls.columns.str.replace('\"', '')\n",
    "controls.columns = controls.columns.str.replace(':', '')\n",
    "controls.columns = controls.columns.str.replace(',', '')\n",
    "controls.rename(columns={c:\"c_\"+c for c in controls.columns if not c in ['geography code', 'geography']}, inplace=True)\n",
    "\n",
    "controls = controls.drop_duplicates()\n",
    "\n",
    "\n",
    "len(controls), len(controls.drop_duplicates()), len(set(controls.index)), len(controls['geography code'].unique())"
   ]
  },
  {
   "cell_type": "code",
   "execution_count": 36,
   "id": "7bba754c",
   "metadata": {},
   "outputs": [
    {
     "data": {
      "text/plain": [
       "(32833, 32833, 32833, 32833)"
      ]
     },
     "execution_count": 36,
     "metadata": {},
     "output_type": "execute_result"
    }
   ],
   "source": [
    "outcomes = pd.read_csv(separate_data_folder + '{}_outcomes.csv'.format(the_year))\n",
    "outcomes.rename(columns={c:\"o_\"+c for c in outcomes.columns if not c in ['geography code', 'geography']}, inplace=True)\n",
    "\n",
    "outcomes = outcomes.drop_duplicates()\n",
    "\n",
    "len(outcomes), len(outcomes.drop_duplicates()), len(set(outcomes.index)), len(outcomes['geography code'].unique())"
   ]
  },
  {
   "cell_type": "code",
   "execution_count": 37,
   "id": "6691b262",
   "metadata": {},
   "outputs": [
    {
     "data": {
      "text/plain": [
       "(36926, 36926, 36926, 33804)"
      ]
     },
     "execution_count": 37,
     "metadata": {},
     "output_type": "execute_result"
    }
   ],
   "source": [
    "env = pd.read_csv(separate_data_folder + '{}_environment.csv'.format(the_year)).rename(columns={'LSOA21CD':'geography code'})\n",
    "del env['LSOA21NM']\n",
    "env.rename(columns={c:\"e_\"+c for c in env.columns if not c in ['geography code', 'geography']}, inplace=True)\n",
    "\n",
    "\n",
    "env = env.drop_duplicates()\n",
    "\n",
    "len(env), len(env.drop_duplicates()), len(set(env.index)), len(env['geography code'].unique())"
   ]
  },
  {
   "attachments": {},
   "cell_type": "markdown",
   "id": "176eccf4",
   "metadata": {},
   "source": [
    "# Merge the different modalities"
   ]
  },
  {
   "cell_type": "code",
   "execution_count": 38,
   "id": "f3318e60",
   "metadata": {},
   "outputs": [],
   "source": [
    "data = controls.merge(outcomes, on=['geography code'])\n",
    "data = data.merge(env, on=['geography code'])"
   ]
  },
  {
   "cell_type": "code",
   "execution_count": 39,
   "id": "26d7966c",
   "metadata": {},
   "outputs": [
    {
     "data": {
      "text/plain": [
       "(34786, 34786, 34786, 31799)"
      ]
     },
     "execution_count": 39,
     "metadata": {},
     "output_type": "execute_result"
    }
   ],
   "source": [
    "len(data), len(data.drop_duplicates()), len(set(data.index)), len(data['geography code'].unique())"
   ]
  },
  {
   "attachments": {},
   "cell_type": "markdown",
   "id": "96d83c89",
   "metadata": {},
   "source": [
    "### remove duplicates\n",
    "\n",
    "We have some duplicates because the environmental code produces scores for some LSOAs twice since we process LSOAs in batches based on the region, and some LSOAs fall into two different regions. These rows were not dropped by drop_duplicates that we ran above simply because of the small-number differences between some environmental scores, stemming from the fact that for calculating some of them, we randomly subsample a subset of all the yearly satellite products. "
   ]
  },
  {
   "cell_type": "code",
   "execution_count": 40,
   "id": "78f01d44",
   "metadata": {},
   "outputs": [
    {
     "data": {
      "text/plain": [
       "(31799, 31799, 31799, 31799)"
      ]
     },
     "execution_count": 40,
     "metadata": {},
     "output_type": "execute_result"
    }
   ],
   "source": [
    "# group the dataframe by 'geography code' and select the first element from each group\n",
    "data = data.groupby('geography code').first()\n",
    "data = data.reset_index().rename(columns={'index': 'geography code'})\n",
    "len(data), len(data.drop_duplicates()), len(set(data.index)), len(data['geography code'].unique())"
   ]
  },
  {
   "cell_type": "code",
   "execution_count": null,
   "id": "9a088cea",
   "metadata": {},
   "outputs": [],
   "source": []
  },
  {
   "attachments": {},
   "cell_type": "markdown",
   "id": "cf91d757",
   "metadata": {},
   "source": [
    "# ADD SPATIAL ELEMENTS INTO THE MASTER"
   ]
  },
  {
   "attachments": {},
   "cell_type": "markdown",
   "id": "3c2facb4",
   "metadata": {},
   "source": [
    "# read Region and LSOA shapefiles"
   ]
  },
  {
   "cell_type": "code",
   "execution_count": 41,
   "id": "0fa09e5e",
   "metadata": {},
   "outputs": [],
   "source": [
    "regions = gpd.read_file('../../data/auxiliary_data/regions_2022/Regions_(December_2022)_EN_BFC/Regions_(December_2022)_EN_BFC.shp')\n",
    "lsoas = gpd.read_file('../../data/auxiliary_data/lsoas_2021/LSOA_(Dec_2021)_Boundaries_Generalised_Clipped_EW_(BGC)/LSOA_(Dec_2021)_Boundaries_Generalised_Clipped_EW_(BGC).shp')"
   ]
  },
  {
   "cell_type": "code",
   "execution_count": 42,
   "id": "be37838a",
   "metadata": {},
   "outputs": [
    {
     "data": {
      "text/plain": [
       "35672"
      ]
     },
     "execution_count": 42,
     "metadata": {},
     "output_type": "execute_result"
    }
   ],
   "source": [
    "len(lsoas)"
   ]
  },
  {
   "attachments": {},
   "cell_type": "markdown",
   "id": "b98e50ee",
   "metadata": {},
   "source": [
    "# spatial join LSOA REGION"
   ]
  },
  {
   "cell_type": "code",
   "execution_count": 43,
   "id": "206266b7",
   "metadata": {},
   "outputs": [],
   "source": [
    "lsoas_regions = gpd.sjoin(lsoas, regions, predicate='within')"
   ]
  },
  {
   "cell_type": "code",
   "execution_count": 44,
   "id": "76f08293",
   "metadata": {},
   "outputs": [
    {
     "data": {
      "text/plain": [
       "(30523, 30523)"
      ]
     },
     "execution_count": 44,
     "metadata": {},
     "output_type": "execute_result"
    }
   ],
   "source": [
    "len(lsoas_regions['LSOA21CD']), len(set(lsoas_regions['LSOA21CD']))"
   ]
  },
  {
   "cell_type": "code",
   "execution_count": 45,
   "id": "9b4c3bd8",
   "metadata": {},
   "outputs": [],
   "source": [
    "lsoas_regions_mapping = lsoas_regions[['LSOA21CD', 'RGN22CD', 'RGN22NM', 'LSOA21NM']].drop_duplicates()"
   ]
  },
  {
   "attachments": {},
   "cell_type": "markdown",
   "id": "819d2950",
   "metadata": {},
   "source": [
    "## save the mapping\n",
    "\n",
    "This can be used later, if needed in some analyses so we save it."
   ]
  },
  {
   "cell_type": "code",
   "execution_count": 46,
   "id": "1f416e8d",
   "metadata": {},
   "outputs": [],
   "source": [
    "# lsoas_regions_mapping.to_csv('../../data/auxiliary_data/lsoas_regions_mapping.csv', index=None)"
   ]
  },
  {
   "attachments": {},
   "cell_type": "markdown",
   "id": "61b0c04c",
   "metadata": {},
   "source": [
    "## add geo columns to the point data. we will create two master files: \n",
    "\n",
    "### 1) one as a csv\n",
    "### 2) second as a geojson"
   ]
  },
  {
   "cell_type": "code",
   "execution_count": 47,
   "id": "763d23f3",
   "metadata": {},
   "outputs": [],
   "source": [
    "# region_geo_columns  = lsoas_regions[['LSOA21CD', 'RGN22CD', 'RGN22NM', 'LSOA21NM', 'geometry']]\n",
    "geo_columns  = lsoas[['LSOA21CD', 'LSOA21NM', 'geometry']]"
   ]
  },
  {
   "cell_type": "code",
   "execution_count": 48,
   "id": "ab0b583e",
   "metadata": {},
   "outputs": [],
   "source": [
    "spatial_data = data.merge(geo_columns.\\\n",
    "                rename(columns={'LSOA21CD':'geography code'}), # , 'RGN22NM':'region'\n",
    "                on='geography code')"
   ]
  },
  {
   "cell_type": "code",
   "execution_count": 49,
   "id": "c6ad6c26",
   "metadata": {},
   "outputs": [],
   "source": [
    "# region_spatial_data = data.merge(region_geo_columns.\\\n",
    "#                 rename(columns={'LSOA21CD':'geography code', 'RGN22NM':'region'}),\n",
    "#                 on='geography code')"
   ]
  },
  {
   "cell_type": "code",
   "execution_count": 50,
   "id": "41e8ef20",
   "metadata": {},
   "outputs": [
    {
     "data": {
      "text/html": [
       "<div>\n",
       "<style scoped>\n",
       "    .dataframe tbody tr th:only-of-type {\n",
       "        vertical-align: middle;\n",
       "    }\n",
       "\n",
       "    .dataframe tbody tr th {\n",
       "        vertical-align: top;\n",
       "    }\n",
       "\n",
       "    .dataframe thead th {\n",
       "        text-align: right;\n",
       "    }\n",
       "</style>\n",
       "<table border=\"1\" class=\"dataframe\">\n",
       "  <thead>\n",
       "    <tr style=\"text-align: right;\">\n",
       "      <th></th>\n",
       "      <th>c_percent asian</th>\n",
       "      <th>c_percent black</th>\n",
       "      <th>c_percent mixed</th>\n",
       "      <th>c_percent white</th>\n",
       "      <th>c_percent christian</th>\n",
       "      <th>c_percent jewish</th>\n",
       "      <th>c_percent no religion</th>\n",
       "      <th>c_percent muslim</th>\n",
       "      <th>c_percent no central heating</th>\n",
       "      <th>c_percent wood heating</th>\n",
       "      <th>...</th>\n",
       "      <th>e_trees</th>\n",
       "      <th>e_grass</th>\n",
       "      <th>e_flooded_vegetation</th>\n",
       "      <th>e_crops</th>\n",
       "      <th>e_shrub_and_scrub</th>\n",
       "      <th>e_built</th>\n",
       "      <th>e_bare</th>\n",
       "      <th>e_snow_and_ice</th>\n",
       "      <th>LSOA21NM</th>\n",
       "      <th>geometry</th>\n",
       "    </tr>\n",
       "    <tr>\n",
       "      <th>geography code</th>\n",
       "      <th></th>\n",
       "      <th></th>\n",
       "      <th></th>\n",
       "      <th></th>\n",
       "      <th></th>\n",
       "      <th></th>\n",
       "      <th></th>\n",
       "      <th></th>\n",
       "      <th></th>\n",
       "      <th></th>\n",
       "      <th></th>\n",
       "      <th></th>\n",
       "      <th></th>\n",
       "      <th></th>\n",
       "      <th></th>\n",
       "      <th></th>\n",
       "      <th></th>\n",
       "      <th></th>\n",
       "      <th></th>\n",
       "      <th></th>\n",
       "      <th></th>\n",
       "    </tr>\n",
       "  </thead>\n",
       "  <tbody>\n",
       "    <tr>\n",
       "      <th>E01000001</th>\n",
       "      <td>0.107191</td>\n",
       "      <td>0.007463</td>\n",
       "      <td>0.037992</td>\n",
       "      <td>0.801221</td>\n",
       "      <td>0.345763</td>\n",
       "      <td>0.019661</td>\n",
       "      <td>0.483390</td>\n",
       "      <td>0.021695</td>\n",
       "      <td>0.026190</td>\n",
       "      <td>0.000000</td>\n",
       "      <td>...</td>\n",
       "      <td>0.053416</td>\n",
       "      <td>0.034901</td>\n",
       "      <td>0.038713</td>\n",
       "      <td>0.031422</td>\n",
       "      <td>0.061790</td>\n",
       "      <td>0.401096</td>\n",
       "      <td>0.094191</td>\n",
       "      <td>0.138707</td>\n",
       "      <td>City of London 001A</td>\n",
       "      <td>POLYGON ((532105.312 182010.574, 532162.491 18...</td>\n",
       "    </tr>\n",
       "    <tr>\n",
       "      <th>E01000002</th>\n",
       "      <td>0.130592</td>\n",
       "      <td>0.007937</td>\n",
       "      <td>0.043290</td>\n",
       "      <td>0.782107</td>\n",
       "      <td>0.338150</td>\n",
       "      <td>0.025289</td>\n",
       "      <td>0.491329</td>\n",
       "      <td>0.018786</td>\n",
       "      <td>0.019417</td>\n",
       "      <td>0.001214</td>\n",
       "      <td>...</td>\n",
       "      <td>0.047842</td>\n",
       "      <td>0.031679</td>\n",
       "      <td>0.038039</td>\n",
       "      <td>0.030665</td>\n",
       "      <td>0.060742</td>\n",
       "      <td>0.380617</td>\n",
       "      <td>0.099214</td>\n",
       "      <td>0.176378</td>\n",
       "      <td>City of London 001B</td>\n",
       "      <td>POLYGON ((532634.497 181926.016, 532619.141 18...</td>\n",
       "    </tr>\n",
       "    <tr>\n",
       "      <th>E01000003</th>\n",
       "      <td>0.094913</td>\n",
       "      <td>0.034739</td>\n",
       "      <td>0.062655</td>\n",
       "      <td>0.741315</td>\n",
       "      <td>0.340360</td>\n",
       "      <td>0.026658</td>\n",
       "      <td>0.479851</td>\n",
       "      <td>0.030998</td>\n",
       "      <td>0.035329</td>\n",
       "      <td>0.000000</td>\n",
       "      <td>...</td>\n",
       "      <td>0.056071</td>\n",
       "      <td>0.033900</td>\n",
       "      <td>0.035725</td>\n",
       "      <td>0.030262</td>\n",
       "      <td>0.056361</td>\n",
       "      <td>0.453260</td>\n",
       "      <td>0.079852</td>\n",
       "      <td>0.156257</td>\n",
       "      <td>City of London 001C</td>\n",
       "      <td>POLYGON ((532135.138 182198.131, 532158.250 18...</td>\n",
       "    </tr>\n",
       "    <tr>\n",
       "      <th>E01000005</th>\n",
       "      <td>0.321526</td>\n",
       "      <td>0.108084</td>\n",
       "      <td>0.071753</td>\n",
       "      <td>0.385104</td>\n",
       "      <td>0.367514</td>\n",
       "      <td>0.012704</td>\n",
       "      <td>0.221416</td>\n",
       "      <td>0.309437</td>\n",
       "      <td>0.012526</td>\n",
       "      <td>0.000000</td>\n",
       "      <td>...</td>\n",
       "      <td>0.046214</td>\n",
       "      <td>0.030626</td>\n",
       "      <td>0.035777</td>\n",
       "      <td>0.029781</td>\n",
       "      <td>0.064675</td>\n",
       "      <td>0.435324</td>\n",
       "      <td>0.130170</td>\n",
       "      <td>0.119792</td>\n",
       "      <td>City of London 001E</td>\n",
       "      <td>POLYGON ((533808.018 180767.774, 533649.037 18...</td>\n",
       "    </tr>\n",
       "    <tr>\n",
       "      <th>E01000006</th>\n",
       "      <td>0.479675</td>\n",
       "      <td>0.108401</td>\n",
       "      <td>0.037940</td>\n",
       "      <td>0.327913</td>\n",
       "      <td>0.371614</td>\n",
       "      <td>0.000542</td>\n",
       "      <td>0.070423</td>\n",
       "      <td>0.391116</td>\n",
       "      <td>0.027076</td>\n",
       "      <td>0.000000</td>\n",
       "      <td>...</td>\n",
       "      <td>0.087520</td>\n",
       "      <td>0.043782</td>\n",
       "      <td>0.034725</td>\n",
       "      <td>0.039805</td>\n",
       "      <td>0.066398</td>\n",
       "      <td>0.508778</td>\n",
       "      <td>0.085872</td>\n",
       "      <td>0.052288</td>\n",
       "      <td>Barking and Dagenham 016A</td>\n",
       "      <td>POLYGON ((545122.049 184314.931, 545271.849 18...</td>\n",
       "    </tr>\n",
       "  </tbody>\n",
       "</table>\n",
       "<p>5 rows × 105 columns</p>\n",
       "</div>"
      ],
      "text/plain": [
       "                c_percent asian  c_percent black  c_percent mixed   \n",
       "geography code                                                      \n",
       "E01000001              0.107191         0.007463         0.037992  \\\n",
       "E01000002              0.130592         0.007937         0.043290   \n",
       "E01000003              0.094913         0.034739         0.062655   \n",
       "E01000005              0.321526         0.108084         0.071753   \n",
       "E01000006              0.479675         0.108401         0.037940   \n",
       "\n",
       "                c_percent white  c_percent christian  c_percent jewish   \n",
       "geography code                                                           \n",
       "E01000001              0.801221             0.345763          0.019661  \\\n",
       "E01000002              0.782107             0.338150          0.025289   \n",
       "E01000003              0.741315             0.340360          0.026658   \n",
       "E01000005              0.385104             0.367514          0.012704   \n",
       "E01000006              0.327913             0.371614          0.000542   \n",
       "\n",
       "                c_percent no religion  c_percent muslim   \n",
       "geography code                                            \n",
       "E01000001                    0.483390          0.021695  \\\n",
       "E01000002                    0.491329          0.018786   \n",
       "E01000003                    0.479851          0.030998   \n",
       "E01000005                    0.221416          0.309437   \n",
       "E01000006                    0.070423          0.391116   \n",
       "\n",
       "                c_percent no central heating  c_percent wood heating  ...   \n",
       "geography code                                                        ...   \n",
       "E01000001                           0.026190                0.000000  ...  \\\n",
       "E01000002                           0.019417                0.001214  ...   \n",
       "E01000003                           0.035329                0.000000  ...   \n",
       "E01000005                           0.012526                0.000000  ...   \n",
       "E01000006                           0.027076                0.000000  ...   \n",
       "\n",
       "                 e_trees   e_grass  e_flooded_vegetation   e_crops   \n",
       "geography code                                                       \n",
       "E01000001       0.053416  0.034901              0.038713  0.031422  \\\n",
       "E01000002       0.047842  0.031679              0.038039  0.030665   \n",
       "E01000003       0.056071  0.033900              0.035725  0.030262   \n",
       "E01000005       0.046214  0.030626              0.035777  0.029781   \n",
       "E01000006       0.087520  0.043782              0.034725  0.039805   \n",
       "\n",
       "                e_shrub_and_scrub   e_built    e_bare  e_snow_and_ice   \n",
       "geography code                                                          \n",
       "E01000001                0.061790  0.401096  0.094191        0.138707  \\\n",
       "E01000002                0.060742  0.380617  0.099214        0.176378   \n",
       "E01000003                0.056361  0.453260  0.079852        0.156257   \n",
       "E01000005                0.064675  0.435324  0.130170        0.119792   \n",
       "E01000006                0.066398  0.508778  0.085872        0.052288   \n",
       "\n",
       "                                 LSOA21NM   \n",
       "geography code                              \n",
       "E01000001             City of London 001A  \\\n",
       "E01000002             City of London 001B   \n",
       "E01000003             City of London 001C   \n",
       "E01000005             City of London 001E   \n",
       "E01000006       Barking and Dagenham 016A   \n",
       "\n",
       "                                                         geometry  \n",
       "geography code                                                     \n",
       "E01000001       POLYGON ((532105.312 182010.574, 532162.491 18...  \n",
       "E01000002       POLYGON ((532634.497 181926.016, 532619.141 18...  \n",
       "E01000003       POLYGON ((532135.138 182198.131, 532158.250 18...  \n",
       "E01000005       POLYGON ((533808.018 180767.774, 533649.037 18...  \n",
       "E01000006       POLYGON ((545122.049 184314.931, 545271.849 18...  \n",
       "\n",
       "[5 rows x 105 columns]"
      ]
     },
     "execution_count": 50,
     "metadata": {},
     "output_type": "execute_result"
    }
   ],
   "source": [
    "spatial_data = spatial_data.set_index('geography code')\n",
    "spatial_data.head()"
   ]
  },
  {
   "cell_type": "code",
   "execution_count": 51,
   "id": "0c3d8c13",
   "metadata": {},
   "outputs": [],
   "source": [
    "# region_spatial_data = region_spatial_data.set_index('geography code')\n",
    "# region_spatial_data.head()"
   ]
  },
  {
   "cell_type": "code",
   "execution_count": 52,
   "id": "123b9644",
   "metadata": {},
   "outputs": [
    {
     "data": {
      "text/plain": [
       "31799"
      ]
     },
     "execution_count": 52,
     "metadata": {},
     "output_type": "execute_result"
    }
   ],
   "source": [
    "# we see that we lose > 2K rows, i.e., LSOAs if we want to include region\n",
    "len(spatial_data) #, len(region_spatial_data)"
   ]
  },
  {
   "cell_type": "markdown",
   "id": "aab00bbb",
   "metadata": {},
   "source": [
    "# add cenotroid point for each LSOA"
   ]
  },
  {
   "cell_type": "code",
   "execution_count": 53,
   "id": "27ccc49a",
   "metadata": {},
   "outputs": [],
   "source": [
    "spatial_data = gpd.GeoDataFrame(spatial_data, geometry='geometry')\n",
    "\n",
    "spatial_data = spatial_data.to_crs(lsoas.crs)\n",
    "spatial_data['center_coordinates'] = spatial_data['geometry'].centroid\n",
    "\n",
    "spatial_data[\"centroid_x\"] = spatial_data[\"center_coordinates\"].apply(lambda p: p.x)\n",
    "spatial_data[\"centroid_y\"] = spatial_data[\"center_coordinates\"].apply(lambda p: p.y)"
   ]
  },
  {
   "cell_type": "code",
   "execution_count": 54,
   "id": "83d858ab",
   "metadata": {},
   "outputs": [],
   "source": [
    "# region_spatial_data = gpd.GeoDataFrame(region_spatial_data, geometry='geometry')\n",
    "# region_spatial_data = region_spatial_data.to_crs(lsoas.crs)\n",
    "# region_spatial_data['center_coordinates'] = region_spatial_data['geometry'].centroid\n",
    "\n",
    "# region_spatial_data[\"centroid_x\"] = region_spatial_data[\"center_coordinates\"].apply(lambda p: p.x)\n",
    "# region_spatial_data[\"centroid_y\"] = region_spatial_data[\"center_coordinates\"].apply(lambda p: p.y)"
   ]
  },
  {
   "cell_type": "code",
   "execution_count": 55,
   "id": "28d130ad",
   "metadata": {},
   "outputs": [
    {
     "name": "stdout",
     "output_type": "stream",
     "text": [
      "(31799, 108)\n"
     ]
    }
   ],
   "source": [
    "print(spatial_data.shape) #, print(region_spatial_data.shape)"
   ]
  },
  {
   "attachments": {},
   "cell_type": "markdown",
   "id": "d3bad3f1",
   "metadata": {},
   "source": [
    "## save .csv master file"
   ]
  },
  {
   "cell_type": "code",
   "execution_count": 56,
   "id": "644984de",
   "metadata": {},
   "outputs": [],
   "source": [
    "spatial_data.to_csv(collated_data_folder + '{}_spatial_raw_master.csv'.format(the_year))"
   ]
  },
  {
   "cell_type": "code",
   "execution_count": 57,
   "id": "e1b5321f",
   "metadata": {},
   "outputs": [],
   "source": [
    "# region_spatial_data.to_csv('../../data/point_data/{}_region_spatial_raw_master.csv'.format(the_year))"
   ]
  },
  {
   "cell_type": "markdown",
   "id": "d8c642eb",
   "metadata": {},
   "source": [
    "## save .geojson master file"
   ]
  },
  {
   "cell_type": "code",
   "execution_count": 58,
   "id": "fe67feed",
   "metadata": {},
   "outputs": [],
   "source": [
    "# here, we keep LSOA shape the main geometry; but we also save LSOA cenotroid points saved. this is useful for some othet types of models, such as spatial regression\n",
    "spatial_data_lsoa = spatial_data.copy()\n",
    "# del spatial_data_lsoa['center_coordinates']\n",
    "spatial_data_lsoa['center_coordinates'] = spatial_data_lsoa['center_coordinates'].astype(str)\n",
    "spatial_data_lsoa.to_file(collated_data_folder + '{}_spatial_raw_master.geojson'.format(the_year), driver='GeoJSON')\n",
    "\n",
    "\n",
    "# # here, we keep LSOA centroid points as the main geometry; but we also save polygon geometries of LSOAs as lsoa_geometry. the reason is that for spatiall fold validation we need point coordinates for geometry\n",
    "# spatial_data.rename(columns={'geometry':'lsoa_geometry', 'center_coordinates':'geometry'}, inplace=True)\n",
    "# # spatial_data['center_coordinates'] = spatial_data['center_coordinates'].astype(str)\n",
    "# spatial_data['lsoa_geometry'] = spatial_data['lsoa_geometry'].astype(str)\n",
    "# spatial_data.to_file('../../data/point_data/{}_spatial_raw_master.geojson'.format(the_year), driver='GeoJSON')"
   ]
  },
  {
   "cell_type": "code",
   "execution_count": 59,
   "id": "c7fd5aa6",
   "metadata": {},
   "outputs": [],
   "source": [
    "# for col in spatial_data.columns:\n",
    "#     if spatial_data[col].dtype != 'float64':\n",
    "#         print(col, spatial_data[col].dtype)"
   ]
  },
  {
   "cell_type": "code",
   "execution_count": 61,
   "id": "36e65831",
   "metadata": {},
   "outputs": [],
   "source": [
    "# region_spatial_data.rename(columns={'geometry':'lsoa_geometry', 'center_coordinates':'geometry'}, inplace=True)\n",
    "\n",
    "# # spatial_data['center_coordinates'] = spatial_data['center_coordinates'].astype(str)\n",
    "# region_spatial_data['lsoa_geometry'] = region_spatial_data['lsoa_geometry'].astype(str)\n",
    "\n",
    "# region_spatial_data.to_file('../../data/point_data/{}_region_spatial_raw_master.geojson'.format(the_year), driver='GeoJSON')"
   ]
  },
  {
   "cell_type": "code",
   "execution_count": null,
   "id": "b605e45c",
   "metadata": {},
   "outputs": [],
   "source": []
  },
  {
   "cell_type": "code",
   "execution_count": null,
   "id": "328fbc9f",
   "metadata": {},
   "outputs": [],
   "source": []
  }
 ],
 "metadata": {
  "kernelspec": {
   "display_name": "Python 3 (ipykernel)",
   "language": "python",
   "name": "python3"
  },
  "language_info": {
   "codemirror_mode": {
    "name": "ipython",
    "version": 3
   },
   "file_extension": ".py",
   "mimetype": "text/x-python",
   "name": "python",
   "nbconvert_exporter": "python",
   "pygments_lexer": "ipython3",
   "version": "3.10.10"
  }
 },
 "nbformat": 4,
 "nbformat_minor": 5
}
