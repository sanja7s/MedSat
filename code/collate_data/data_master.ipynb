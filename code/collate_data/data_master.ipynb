{
 "cells": [
  {
   "cell_type": "code",
   "execution_count": 5,
   "id": "dac94a13",
   "metadata": {},
   "outputs": [],
   "source": [
    "import pandas as pd\n",
    "import numpy as np\n",
    "from sklearn import preprocessing\n",
    "from sklearn.preprocessing import MinMaxScaler\n",
    "import geopandas as gpd"
   ]
  },
  {
   "cell_type": "markdown",
   "id": "ee15f4b6",
   "metadata": {},
   "source": [
    "# process all the data for \"the_year\" and save yearly master data  "
   ]
  },
  {
   "cell_type": "code",
   "execution_count": 6,
   "id": "2db94975",
   "metadata": {},
   "outputs": [],
   "source": [
    "the_year = 2020"
   ]
  },
  {
   "cell_type": "code",
   "execution_count": 9,
   "id": "b9cebe2f",
   "metadata": {},
   "outputs": [],
   "source": [
    "separate_data_folder = '../../data/point_data/data_segments/'\n",
    "collated_data_folder = '../../data/point_data/'"
   ]
  },
  {
   "attachments": {},
   "cell_type": "markdown",
   "id": "4400e1ae",
   "metadata": {},
   "source": [
    "# get different data modalities: controls, outcomes and enviornmental"
   ]
  },
  {
   "cell_type": "code",
   "execution_count": 10,
   "id": "c4d7edaa",
   "metadata": {},
   "outputs": [
    {
     "data": {
      "text/plain": [
       "(35672, 35672, 35672, 35672)"
      ]
     },
     "execution_count": 10,
     "metadata": {},
     "output_type": "execute_result"
    }
   ],
   "source": [
    "controls = pd.read_csv(separate_data_folder + 'controls.csv')\n",
    "# replace quotes in column names\n",
    "controls.columns = controls.columns.str.replace('\"', '')\n",
    "controls.columns = controls.columns.str.replace(':', '')\n",
    "controls.columns = controls.columns.str.replace(',', '')\n",
    "controls.rename(columns={c:\"c_\"+c for c in controls.columns if not c in ['geography code', 'geography']}, inplace=True)\n",
    "\n",
    "controls = controls.drop_duplicates()\n",
    "\n",
    "\n",
    "len(controls), len(controls.drop_duplicates()), len(set(controls.index)), len(controls['geography code'].unique())"
   ]
  },
  {
   "cell_type": "code",
   "execution_count": 11,
   "id": "7bba754c",
   "metadata": {},
   "outputs": [
    {
     "data": {
      "text/plain": [
       "(32833, 32833, 32833, 32833)"
      ]
     },
     "execution_count": 11,
     "metadata": {},
     "output_type": "execute_result"
    }
   ],
   "source": [
    "outcomes = pd.read_csv(separate_data_folder + '{}_outcomes.csv'.format(the_year))\n",
    "outcomes.rename(columns={c:\"o_\"+c for c in outcomes.columns if not c in ['geography code', 'geography']}, inplace=True)\n",
    "\n",
    "outcomes = outcomes.drop_duplicates()\n",
    "\n",
    "len(outcomes), len(outcomes.drop_duplicates()), len(set(outcomes.index)), len(outcomes['geography code'].unique())"
   ]
  },
  {
   "cell_type": "code",
   "execution_count": 12,
   "id": "6691b262",
   "metadata": {},
   "outputs": [
    {
     "data": {
      "text/plain": [
       "(37183, 37183, 37183, 33804)"
      ]
     },
     "execution_count": 12,
     "metadata": {},
     "output_type": "execute_result"
    }
   ],
   "source": [
    "env = pd.read_csv(separate_data_folder + '{}_environment.csv'.format(the_year)).rename(columns={'LSOA21CD':'geography code'})\n",
    "del env['LSOA21NM']\n",
    "env.rename(columns={c:\"e_\"+c for c in env.columns if not c in ['geography code', 'geography']}, inplace=True)\n",
    "\n",
    "\n",
    "env = env.drop_duplicates()\n",
    "\n",
    "len(env), len(env.drop_duplicates()), len(set(env.index)), len(env['geography code'].unique())"
   ]
  },
  {
   "attachments": {},
   "cell_type": "markdown",
   "id": "176eccf4",
   "metadata": {},
   "source": [
    "# Merge the different modalities"
   ]
  },
  {
   "cell_type": "code",
   "execution_count": 33,
   "id": "f3318e60",
   "metadata": {},
   "outputs": [],
   "source": [
    "data = controls.merge(outcomes, on=['geography code'], how='outer')\n",
    "data = data.merge(env, on=['geography code'], how='outer')"
   ]
  },
  {
   "cell_type": "code",
   "execution_count": 34,
   "id": "26d7966c",
   "metadata": {},
   "outputs": [
    {
     "data": {
      "text/plain": [
       "(40085, 40085, 40085, 36706)"
      ]
     },
     "execution_count": 34,
     "metadata": {},
     "output_type": "execute_result"
    }
   ],
   "source": [
    "len(data), len(data.drop_duplicates()), len(set(data.index)), len(data['geography code'].unique())"
   ]
  },
  {
   "attachments": {},
   "cell_type": "markdown",
   "id": "96d83c89",
   "metadata": {},
   "source": [
    "### remove duplicates\n",
    "\n",
    "We have some duplicates because the environmental code produces scores for some LSOAs twice since we process LSOAs in batches based on the region, and some LSOAs fall into two different regions. These rows were not dropped by drop_duplicates that we ran above simply because of the small-number differences between some environmental scores, stemming from the fact that for calculating some of them, we randomly subsample a subset of all the yearly satellite products. "
   ]
  },
  {
   "cell_type": "code",
   "execution_count": 35,
   "id": "78f01d44",
   "metadata": {},
   "outputs": [
    {
     "data": {
      "text/plain": [
       "(36706, 36706, 36706, 36706)"
      ]
     },
     "execution_count": 35,
     "metadata": {},
     "output_type": "execute_result"
    }
   ],
   "source": [
    "# group the dataframe by 'geography code' and select the first element from each group\n",
    "data = data.groupby('geography code').first()\n",
    "data = data.reset_index().rename(columns={'index': 'geography code'})\n",
    "len(data), len(data.drop_duplicates()), len(set(data.index)), len(data['geography code'].unique())"
   ]
  },
  {
   "cell_type": "code",
   "execution_count": 36,
   "id": "9a088cea",
   "metadata": {},
   "outputs": [
    {
     "data": {
      "text/html": [
       "<div>\n",
       "<style scoped>\n",
       "    .dataframe tbody tr th:only-of-type {\n",
       "        vertical-align: middle;\n",
       "    }\n",
       "\n",
       "    .dataframe tbody tr th {\n",
       "        vertical-align: top;\n",
       "    }\n",
       "\n",
       "    .dataframe thead th {\n",
       "        text-align: right;\n",
       "    }\n",
       "</style>\n",
       "<table border=\"1\" class=\"dataframe\">\n",
       "  <thead>\n",
       "    <tr style=\"text-align: right;\">\n",
       "      <th></th>\n",
       "      <th>geography code</th>\n",
       "      <th>c_percent asian</th>\n",
       "      <th>c_percent black</th>\n",
       "      <th>c_percent mixed</th>\n",
       "      <th>c_percent white</th>\n",
       "      <th>c_percent christian</th>\n",
       "      <th>c_percent jewish</th>\n",
       "      <th>c_percent no religion</th>\n",
       "      <th>c_percent muslim</th>\n",
       "      <th>c_percent no central heating</th>\n",
       "      <th>...</th>\n",
       "      <th>e_surface_runoff_sum</th>\n",
       "      <th>e_water</th>\n",
       "      <th>e_trees</th>\n",
       "      <th>e_grass</th>\n",
       "      <th>e_flooded_vegetation</th>\n",
       "      <th>e_crops</th>\n",
       "      <th>e_shrub_and_scrub</th>\n",
       "      <th>e_built</th>\n",
       "      <th>e_bare</th>\n",
       "      <th>e_snow_and_ice</th>\n",
       "    </tr>\n",
       "  </thead>\n",
       "  <tbody>\n",
       "    <tr>\n",
       "      <th>36701</th>\n",
       "      <td>W01002036</td>\n",
       "      <td>0.030284</td>\n",
       "      <td>0.014175</td>\n",
       "      <td>0.045747</td>\n",
       "      <td>0.900773</td>\n",
       "      <td>0.376372</td>\n",
       "      <td>0.000646</td>\n",
       "      <td>0.531311</td>\n",
       "      <td>0.020658</td>\n",
       "      <td>0.005188</td>\n",
       "      <td>...</td>\n",
       "      <td>NaN</td>\n",
       "      <td>NaN</td>\n",
       "      <td>NaN</td>\n",
       "      <td>NaN</td>\n",
       "      <td>NaN</td>\n",
       "      <td>NaN</td>\n",
       "      <td>NaN</td>\n",
       "      <td>NaN</td>\n",
       "      <td>NaN</td>\n",
       "      <td>NaN</td>\n",
       "    </tr>\n",
       "    <tr>\n",
       "      <th>36702</th>\n",
       "      <td>W01002037</td>\n",
       "      <td>0.021596</td>\n",
       "      <td>0.009390</td>\n",
       "      <td>0.029108</td>\n",
       "      <td>0.932394</td>\n",
       "      <td>0.418386</td>\n",
       "      <td>0.002814</td>\n",
       "      <td>0.483114</td>\n",
       "      <td>0.022514</td>\n",
       "      <td>0.012411</td>\n",
       "      <td>...</td>\n",
       "      <td>NaN</td>\n",
       "      <td>NaN</td>\n",
       "      <td>NaN</td>\n",
       "      <td>NaN</td>\n",
       "      <td>NaN</td>\n",
       "      <td>NaN</td>\n",
       "      <td>NaN</td>\n",
       "      <td>NaN</td>\n",
       "      <td>NaN</td>\n",
       "      <td>NaN</td>\n",
       "    </tr>\n",
       "    <tr>\n",
       "      <th>36703</th>\n",
       "      <td>W01002038</td>\n",
       "      <td>0.007115</td>\n",
       "      <td>0.003162</td>\n",
       "      <td>0.022134</td>\n",
       "      <td>0.966008</td>\n",
       "      <td>0.438291</td>\n",
       "      <td>0.000791</td>\n",
       "      <td>0.509494</td>\n",
       "      <td>0.000791</td>\n",
       "      <td>0.020619</td>\n",
       "      <td>...</td>\n",
       "      <td>NaN</td>\n",
       "      <td>NaN</td>\n",
       "      <td>NaN</td>\n",
       "      <td>NaN</td>\n",
       "      <td>NaN</td>\n",
       "      <td>NaN</td>\n",
       "      <td>NaN</td>\n",
       "      <td>NaN</td>\n",
       "      <td>NaN</td>\n",
       "      <td>NaN</td>\n",
       "    </tr>\n",
       "    <tr>\n",
       "      <th>36704</th>\n",
       "      <td>W01002039</td>\n",
       "      <td>0.011932</td>\n",
       "      <td>0.004545</td>\n",
       "      <td>0.026136</td>\n",
       "      <td>0.956250</td>\n",
       "      <td>0.400568</td>\n",
       "      <td>0.000568</td>\n",
       "      <td>0.538636</td>\n",
       "      <td>0.003977</td>\n",
       "      <td>0.001497</td>\n",
       "      <td>...</td>\n",
       "      <td>NaN</td>\n",
       "      <td>NaN</td>\n",
       "      <td>NaN</td>\n",
       "      <td>NaN</td>\n",
       "      <td>NaN</td>\n",
       "      <td>NaN</td>\n",
       "      <td>NaN</td>\n",
       "      <td>NaN</td>\n",
       "      <td>NaN</td>\n",
       "      <td>NaN</td>\n",
       "    </tr>\n",
       "    <tr>\n",
       "      <th>36705</th>\n",
       "      <td>W01002040</td>\n",
       "      <td>0.033453</td>\n",
       "      <td>0.006691</td>\n",
       "      <td>0.036541</td>\n",
       "      <td>0.920226</td>\n",
       "      <td>0.282553</td>\n",
       "      <td>0.000515</td>\n",
       "      <td>0.638703</td>\n",
       "      <td>0.014411</td>\n",
       "      <td>0.013319</td>\n",
       "      <td>...</td>\n",
       "      <td>NaN</td>\n",
       "      <td>NaN</td>\n",
       "      <td>NaN</td>\n",
       "      <td>NaN</td>\n",
       "      <td>NaN</td>\n",
       "      <td>NaN</td>\n",
       "      <td>NaN</td>\n",
       "      <td>NaN</td>\n",
       "      <td>NaN</td>\n",
       "      <td>NaN</td>\n",
       "    </tr>\n",
       "  </tbody>\n",
       "</table>\n",
       "<p>5 rows × 104 columns</p>\n",
       "</div>"
      ],
      "text/plain": [
       "      geography code  c_percent asian  c_percent black  c_percent mixed   \n",
       "36701      W01002036         0.030284         0.014175         0.045747  \\\n",
       "36702      W01002037         0.021596         0.009390         0.029108   \n",
       "36703      W01002038         0.007115         0.003162         0.022134   \n",
       "36704      W01002039         0.011932         0.004545         0.026136   \n",
       "36705      W01002040         0.033453         0.006691         0.036541   \n",
       "\n",
       "       c_percent white  c_percent christian  c_percent jewish   \n",
       "36701         0.900773             0.376372          0.000646  \\\n",
       "36702         0.932394             0.418386          0.002814   \n",
       "36703         0.966008             0.438291          0.000791   \n",
       "36704         0.956250             0.400568          0.000568   \n",
       "36705         0.920226             0.282553          0.000515   \n",
       "\n",
       "       c_percent no religion  c_percent muslim  c_percent no central heating   \n",
       "36701               0.531311          0.020658                      0.005188  \\\n",
       "36702               0.483114          0.022514                      0.012411   \n",
       "36703               0.509494          0.000791                      0.020619   \n",
       "36704               0.538636          0.003977                      0.001497   \n",
       "36705               0.638703          0.014411                      0.013319   \n",
       "\n",
       "       ...  e_surface_runoff_sum  e_water  e_trees  e_grass   \n",
       "36701  ...                   NaN      NaN      NaN      NaN  \\\n",
       "36702  ...                   NaN      NaN      NaN      NaN   \n",
       "36703  ...                   NaN      NaN      NaN      NaN   \n",
       "36704  ...                   NaN      NaN      NaN      NaN   \n",
       "36705  ...                   NaN      NaN      NaN      NaN   \n",
       "\n",
       "       e_flooded_vegetation  e_crops  e_shrub_and_scrub  e_built  e_bare   \n",
       "36701                   NaN      NaN                NaN      NaN     NaN  \\\n",
       "36702                   NaN      NaN                NaN      NaN     NaN   \n",
       "36703                   NaN      NaN                NaN      NaN     NaN   \n",
       "36704                   NaN      NaN                NaN      NaN     NaN   \n",
       "36705                   NaN      NaN                NaN      NaN     NaN   \n",
       "\n",
       "       e_snow_and_ice  \n",
       "36701             NaN  \n",
       "36702             NaN  \n",
       "36703             NaN  \n",
       "36704             NaN  \n",
       "36705             NaN  \n",
       "\n",
       "[5 rows x 104 columns]"
      ]
     },
     "execution_count": 36,
     "metadata": {},
     "output_type": "execute_result"
    }
   ],
   "source": [
    "data.tail()"
   ]
  },
  {
   "attachments": {},
   "cell_type": "markdown",
   "id": "cf91d757",
   "metadata": {},
   "source": [
    "# ADD SPATIAL ELEMENTS INTO THE MASTER"
   ]
  },
  {
   "attachments": {},
   "cell_type": "markdown",
   "id": "3c2facb4",
   "metadata": {},
   "source": [
    "# read Region and LSOA shapefiles"
   ]
  },
  {
   "cell_type": "code",
   "execution_count": 37,
   "id": "0fa09e5e",
   "metadata": {},
   "outputs": [],
   "source": [
    "regions = gpd.read_file('../../data/auxiliary_data/regions_2022/Regions_(December_2022)_EN_BFC/Regions_(December_2022)_EN_BFC.shp')\n",
    "lsoas = gpd.read_file('../../data/auxiliary_data/lsoas_2021/LSOA_(Dec_2021)_Boundaries_Generalised_Clipped_EW_(BGC)/LSOA_(Dec_2021)_Boundaries_Generalised_Clipped_EW_(BGC).shp')"
   ]
  },
  {
   "cell_type": "code",
   "execution_count": 38,
   "id": "be37838a",
   "metadata": {},
   "outputs": [
    {
     "data": {
      "text/plain": [
       "35672"
      ]
     },
     "execution_count": 38,
     "metadata": {},
     "output_type": "execute_result"
    }
   ],
   "source": [
    "len(lsoas)"
   ]
  },
  {
   "attachments": {},
   "cell_type": "markdown",
   "id": "b98e50ee",
   "metadata": {},
   "source": [
    "# spatial join LSOA REGION"
   ]
  },
  {
   "cell_type": "code",
   "execution_count": 39,
   "id": "206266b7",
   "metadata": {},
   "outputs": [],
   "source": [
    "lsoas_regions = gpd.sjoin(lsoas, regions, predicate='within')"
   ]
  },
  {
   "cell_type": "code",
   "execution_count": 40,
   "id": "76f08293",
   "metadata": {},
   "outputs": [
    {
     "data": {
      "text/plain": [
       "(30523, 30523)"
      ]
     },
     "execution_count": 40,
     "metadata": {},
     "output_type": "execute_result"
    }
   ],
   "source": [
    "len(lsoas_regions['LSOA21CD']), len(set(lsoas_regions['LSOA21CD']))"
   ]
  },
  {
   "cell_type": "code",
   "execution_count": 41,
   "id": "9b4c3bd8",
   "metadata": {},
   "outputs": [],
   "source": [
    "lsoas_regions_mapping = lsoas_regions[['LSOA21CD', 'RGN22CD', 'RGN22NM', 'LSOA21NM']].drop_duplicates()"
   ]
  },
  {
   "attachments": {},
   "cell_type": "markdown",
   "id": "819d2950",
   "metadata": {},
   "source": [
    "## save the mapping\n",
    "\n",
    "This can be used later, if needed in some analyses so we save it."
   ]
  },
  {
   "cell_type": "code",
   "execution_count": 42,
   "id": "1f416e8d",
   "metadata": {},
   "outputs": [],
   "source": [
    "# lsoas_regions_mapping.to_csv('../../data/auxiliary_data/lsoas_regions_mapping.csv', index=None)"
   ]
  },
  {
   "attachments": {},
   "cell_type": "markdown",
   "id": "61b0c04c",
   "metadata": {},
   "source": [
    "## add geo columns to the point data. we will create two master files: \n",
    "\n",
    "### 1) one as a csv\n",
    "### 2) second as a geojson"
   ]
  },
  {
   "cell_type": "code",
   "execution_count": 43,
   "id": "763d23f3",
   "metadata": {},
   "outputs": [],
   "source": [
    "# region_geo_columns  = lsoas_regions[['LSOA21CD', 'RGN22CD', 'RGN22NM', 'LSOA21NM', 'geometry']]\n",
    "geo_columns  = lsoas[['LSOA21CD', 'LSOA21NM', 'geometry']]"
   ]
  },
  {
   "cell_type": "code",
   "execution_count": 44,
   "id": "ab0b583e",
   "metadata": {},
   "outputs": [],
   "source": [
    "spatial_data = data.merge(geo_columns.\\\n",
    "                rename(columns={'LSOA21CD':'geography code'}), # , 'RGN22NM':'region'\n",
    "                on='geography code')"
   ]
  },
  {
   "cell_type": "code",
   "execution_count": 45,
   "id": "c6ad6c26",
   "metadata": {},
   "outputs": [],
   "source": [
    "# region_spatial_data = data.merge(region_geo_columns.\\\n",
    "#                 rename(columns={'LSOA21CD':'geography code', 'RGN22NM':'region'}),\n",
    "#                 on='geography code')"
   ]
  },
  {
   "cell_type": "code",
   "execution_count": 46,
   "id": "074724e6",
   "metadata": {},
   "outputs": [
    {
     "data": {
      "text/plain": [
       "(35672, 106)"
      ]
     },
     "execution_count": 46,
     "metadata": {},
     "output_type": "execute_result"
    }
   ],
   "source": [
    "spatial_data.shape"
   ]
  },
  {
   "cell_type": "code",
   "execution_count": 47,
   "id": "90ee2dac",
   "metadata": {},
   "outputs": [],
   "source": [
    "spatial_data = spatial_data[spatial_data['geography code'].str.startswith('E')]"
   ]
  },
  {
   "cell_type": "code",
   "execution_count": 48,
   "id": "7de1a130",
   "metadata": {},
   "outputs": [
    {
     "data": {
      "text/plain": [
       "(33755, 106)"
      ]
     },
     "execution_count": 48,
     "metadata": {},
     "output_type": "execute_result"
    }
   ],
   "source": [
    "spatial_data.shape"
   ]
  },
  {
   "cell_type": "code",
   "execution_count": 49,
   "id": "41e8ef20",
   "metadata": {},
   "outputs": [
    {
     "data": {
      "text/html": [
       "<div>\n",
       "<style scoped>\n",
       "    .dataframe tbody tr th:only-of-type {\n",
       "        vertical-align: middle;\n",
       "    }\n",
       "\n",
       "    .dataframe tbody tr th {\n",
       "        vertical-align: top;\n",
       "    }\n",
       "\n",
       "    .dataframe thead th {\n",
       "        text-align: right;\n",
       "    }\n",
       "</style>\n",
       "<table border=\"1\" class=\"dataframe\">\n",
       "  <thead>\n",
       "    <tr style=\"text-align: right;\">\n",
       "      <th></th>\n",
       "      <th>c_percent asian</th>\n",
       "      <th>c_percent black</th>\n",
       "      <th>c_percent mixed</th>\n",
       "      <th>c_percent white</th>\n",
       "      <th>c_percent christian</th>\n",
       "      <th>c_percent jewish</th>\n",
       "      <th>c_percent no religion</th>\n",
       "      <th>c_percent muslim</th>\n",
       "      <th>c_percent no central heating</th>\n",
       "      <th>c_percent wood heating</th>\n",
       "      <th>...</th>\n",
       "      <th>e_trees</th>\n",
       "      <th>e_grass</th>\n",
       "      <th>e_flooded_vegetation</th>\n",
       "      <th>e_crops</th>\n",
       "      <th>e_shrub_and_scrub</th>\n",
       "      <th>e_built</th>\n",
       "      <th>e_bare</th>\n",
       "      <th>e_snow_and_ice</th>\n",
       "      <th>LSOA21NM</th>\n",
       "      <th>geometry</th>\n",
       "    </tr>\n",
       "    <tr>\n",
       "      <th>geography code</th>\n",
       "      <th></th>\n",
       "      <th></th>\n",
       "      <th></th>\n",
       "      <th></th>\n",
       "      <th></th>\n",
       "      <th></th>\n",
       "      <th></th>\n",
       "      <th></th>\n",
       "      <th></th>\n",
       "      <th></th>\n",
       "      <th></th>\n",
       "      <th></th>\n",
       "      <th></th>\n",
       "      <th></th>\n",
       "      <th></th>\n",
       "      <th></th>\n",
       "      <th></th>\n",
       "      <th></th>\n",
       "      <th></th>\n",
       "      <th></th>\n",
       "      <th></th>\n",
       "    </tr>\n",
       "  </thead>\n",
       "  <tbody>\n",
       "    <tr>\n",
       "      <th>E01000001</th>\n",
       "      <td>0.107191</td>\n",
       "      <td>0.007463</td>\n",
       "      <td>0.037992</td>\n",
       "      <td>0.801221</td>\n",
       "      <td>0.345763</td>\n",
       "      <td>0.019661</td>\n",
       "      <td>0.483390</td>\n",
       "      <td>0.021695</td>\n",
       "      <td>0.026190</td>\n",
       "      <td>0.000000</td>\n",
       "      <td>...</td>\n",
       "      <td>0.053142</td>\n",
       "      <td>0.034637</td>\n",
       "      <td>0.037382</td>\n",
       "      <td>0.029789</td>\n",
       "      <td>0.061613</td>\n",
       "      <td>0.487398</td>\n",
       "      <td>0.086469</td>\n",
       "      <td>0.092108</td>\n",
       "      <td>City of London 001A</td>\n",
       "      <td>POLYGON ((532105.312 182010.574, 532162.491 18...</td>\n",
       "    </tr>\n",
       "    <tr>\n",
       "      <th>E01000002</th>\n",
       "      <td>0.130592</td>\n",
       "      <td>0.007937</td>\n",
       "      <td>0.043290</td>\n",
       "      <td>0.782107</td>\n",
       "      <td>0.338150</td>\n",
       "      <td>0.025289</td>\n",
       "      <td>0.491329</td>\n",
       "      <td>0.018786</td>\n",
       "      <td>0.019417</td>\n",
       "      <td>0.001214</td>\n",
       "      <td>...</td>\n",
       "      <td>0.047079</td>\n",
       "      <td>0.032114</td>\n",
       "      <td>0.036503</td>\n",
       "      <td>0.028673</td>\n",
       "      <td>0.062030</td>\n",
       "      <td>0.478821</td>\n",
       "      <td>0.094367</td>\n",
       "      <td>0.108474</td>\n",
       "      <td>City of London 001B</td>\n",
       "      <td>POLYGON ((532634.497 181926.016, 532619.141 18...</td>\n",
       "    </tr>\n",
       "    <tr>\n",
       "      <th>E01000003</th>\n",
       "      <td>0.094913</td>\n",
       "      <td>0.034739</td>\n",
       "      <td>0.062655</td>\n",
       "      <td>0.741315</td>\n",
       "      <td>0.340360</td>\n",
       "      <td>0.026658</td>\n",
       "      <td>0.479851</td>\n",
       "      <td>0.030998</td>\n",
       "      <td>0.035329</td>\n",
       "      <td>0.000000</td>\n",
       "      <td>...</td>\n",
       "      <td>0.057794</td>\n",
       "      <td>0.034344</td>\n",
       "      <td>0.035054</td>\n",
       "      <td>0.029642</td>\n",
       "      <td>0.057333</td>\n",
       "      <td>0.541734</td>\n",
       "      <td>0.070082</td>\n",
       "      <td>0.088695</td>\n",
       "      <td>City of London 001C</td>\n",
       "      <td>POLYGON ((532135.138 182198.131, 532158.250 18...</td>\n",
       "    </tr>\n",
       "    <tr>\n",
       "      <th>E01000005</th>\n",
       "      <td>0.321526</td>\n",
       "      <td>0.108084</td>\n",
       "      <td>0.071753</td>\n",
       "      <td>0.385104</td>\n",
       "      <td>0.367514</td>\n",
       "      <td>0.012704</td>\n",
       "      <td>0.221416</td>\n",
       "      <td>0.309437</td>\n",
       "      <td>0.012526</td>\n",
       "      <td>0.000000</td>\n",
       "      <td>...</td>\n",
       "      <td>0.044154</td>\n",
       "      <td>0.030236</td>\n",
       "      <td>0.035305</td>\n",
       "      <td>0.028209</td>\n",
       "      <td>0.061742</td>\n",
       "      <td>0.525229</td>\n",
       "      <td>0.109265</td>\n",
       "      <td>0.072893</td>\n",
       "      <td>City of London 001E</td>\n",
       "      <td>POLYGON ((533808.018 180767.774, 533649.037 18...</td>\n",
       "    </tr>\n",
       "    <tr>\n",
       "      <th>E01000006</th>\n",
       "      <td>0.479675</td>\n",
       "      <td>0.108401</td>\n",
       "      <td>0.037940</td>\n",
       "      <td>0.327913</td>\n",
       "      <td>0.371614</td>\n",
       "      <td>0.000542</td>\n",
       "      <td>0.070423</td>\n",
       "      <td>0.391116</td>\n",
       "      <td>0.027076</td>\n",
       "      <td>0.000000</td>\n",
       "      <td>...</td>\n",
       "      <td>0.066284</td>\n",
       "      <td>0.035672</td>\n",
       "      <td>0.033845</td>\n",
       "      <td>0.033294</td>\n",
       "      <td>0.060597</td>\n",
       "      <td>0.598694</td>\n",
       "      <td>0.072455</td>\n",
       "      <td>0.032890</td>\n",
       "      <td>Barking and Dagenham 016A</td>\n",
       "      <td>POLYGON ((545122.049 184314.931, 545271.849 18...</td>\n",
       "    </tr>\n",
       "    <tr>\n",
       "      <th>E01000007</th>\n",
       "      <td>0.319683</td>\n",
       "      <td>0.284928</td>\n",
       "      <td>0.062973</td>\n",
       "      <td>0.288025</td>\n",
       "      <td>0.381493</td>\n",
       "      <td>0.000344</td>\n",
       "      <td>0.125559</td>\n",
       "      <td>0.377365</td>\n",
       "      <td>0.031040</td>\n",
       "      <td>0.000000</td>\n",
       "      <td>...</td>\n",
       "      <td>0.066161</td>\n",
       "      <td>0.034978</td>\n",
       "      <td>0.034301</td>\n",
       "      <td>0.032276</td>\n",
       "      <td>0.064485</td>\n",
       "      <td>0.542067</td>\n",
       "      <td>0.087362</td>\n",
       "      <td>0.050718</td>\n",
       "      <td>Barking and Dagenham 015A</td>\n",
       "      <td>POLYGON ((544180.347 184700.582, 544317.196 18...</td>\n",
       "    </tr>\n",
       "    <tr>\n",
       "      <th>E01000008</th>\n",
       "      <td>0.256125</td>\n",
       "      <td>0.398664</td>\n",
       "      <td>0.048441</td>\n",
       "      <td>0.250000</td>\n",
       "      <td>0.471604</td>\n",
       "      <td>0.000000</td>\n",
       "      <td>0.100223</td>\n",
       "      <td>0.346882</td>\n",
       "      <td>0.027372</td>\n",
       "      <td>0.000000</td>\n",
       "      <td>...</td>\n",
       "      <td>0.102022</td>\n",
       "      <td>0.041083</td>\n",
       "      <td>0.035331</td>\n",
       "      <td>0.038354</td>\n",
       "      <td>0.052078</td>\n",
       "      <td>0.587635</td>\n",
       "      <td>0.046533</td>\n",
       "      <td>0.034572</td>\n",
       "      <td>Barking and Dagenham 015B</td>\n",
       "      <td>MULTIPOLYGON (((543741.001 184566.000, 543806....</td>\n",
       "    </tr>\n",
       "    <tr>\n",
       "      <th>E01000009</th>\n",
       "      <td>0.489751</td>\n",
       "      <td>0.111911</td>\n",
       "      <td>0.029363</td>\n",
       "      <td>0.303601</td>\n",
       "      <td>0.305987</td>\n",
       "      <td>0.001109</td>\n",
       "      <td>0.092572</td>\n",
       "      <td>0.394124</td>\n",
       "      <td>0.028333</td>\n",
       "      <td>0.000000</td>\n",
       "      <td>...</td>\n",
       "      <td>0.062609</td>\n",
       "      <td>0.032248</td>\n",
       "      <td>0.033476</td>\n",
       "      <td>0.038322</td>\n",
       "      <td>0.066256</td>\n",
       "      <td>0.545876</td>\n",
       "      <td>0.089955</td>\n",
       "      <td>0.030667</td>\n",
       "      <td>Barking and Dagenham 016B</td>\n",
       "      <td>POLYGON ((544499.837 184704.366, 544630.292 18...</td>\n",
       "    </tr>\n",
       "    <tr>\n",
       "      <th>E01000011</th>\n",
       "      <td>0.548122</td>\n",
       "      <td>0.100939</td>\n",
       "      <td>0.024061</td>\n",
       "      <td>0.283451</td>\n",
       "      <td>0.330394</td>\n",
       "      <td>0.000588</td>\n",
       "      <td>0.054674</td>\n",
       "      <td>0.479130</td>\n",
       "      <td>0.038055</td>\n",
       "      <td>0.000000</td>\n",
       "      <td>...</td>\n",
       "      <td>0.121090</td>\n",
       "      <td>0.049614</td>\n",
       "      <td>0.033997</td>\n",
       "      <td>0.050135</td>\n",
       "      <td>0.071378</td>\n",
       "      <td>0.458662</td>\n",
       "      <td>0.084793</td>\n",
       "      <td>0.034769</td>\n",
       "      <td>Barking and Dagenham 016C</td>\n",
       "      <td>POLYGON ((544523.402 184789.039, 544667.055 18...</td>\n",
       "    </tr>\n",
       "    <tr>\n",
       "      <th>E01000012</th>\n",
       "      <td>0.336031</td>\n",
       "      <td>0.292164</td>\n",
       "      <td>0.052811</td>\n",
       "      <td>0.274702</td>\n",
       "      <td>0.374573</td>\n",
       "      <td>0.000853</td>\n",
       "      <td>0.136945</td>\n",
       "      <td>0.367321</td>\n",
       "      <td>0.037084</td>\n",
       "      <td>0.000000</td>\n",
       "      <td>...</td>\n",
       "      <td>0.095412</td>\n",
       "      <td>0.035562</td>\n",
       "      <td>0.034244</td>\n",
       "      <td>0.034211</td>\n",
       "      <td>0.066156</td>\n",
       "      <td>0.547945</td>\n",
       "      <td>0.073257</td>\n",
       "      <td>0.036261</td>\n",
       "      <td>Barking and Dagenham 015D</td>\n",
       "      <td>POLYGON ((544240.061 184789.152, 544241.267 18...</td>\n",
       "    </tr>\n",
       "  </tbody>\n",
       "</table>\n",
       "<p>10 rows × 105 columns</p>\n",
       "</div>"
      ],
      "text/plain": [
       "                c_percent asian  c_percent black  c_percent mixed   \n",
       "geography code                                                      \n",
       "E01000001              0.107191         0.007463         0.037992  \\\n",
       "E01000002              0.130592         0.007937         0.043290   \n",
       "E01000003              0.094913         0.034739         0.062655   \n",
       "E01000005              0.321526         0.108084         0.071753   \n",
       "E01000006              0.479675         0.108401         0.037940   \n",
       "E01000007              0.319683         0.284928         0.062973   \n",
       "E01000008              0.256125         0.398664         0.048441   \n",
       "E01000009              0.489751         0.111911         0.029363   \n",
       "E01000011              0.548122         0.100939         0.024061   \n",
       "E01000012              0.336031         0.292164         0.052811   \n",
       "\n",
       "                c_percent white  c_percent christian  c_percent jewish   \n",
       "geography code                                                           \n",
       "E01000001              0.801221             0.345763          0.019661  \\\n",
       "E01000002              0.782107             0.338150          0.025289   \n",
       "E01000003              0.741315             0.340360          0.026658   \n",
       "E01000005              0.385104             0.367514          0.012704   \n",
       "E01000006              0.327913             0.371614          0.000542   \n",
       "E01000007              0.288025             0.381493          0.000344   \n",
       "E01000008              0.250000             0.471604          0.000000   \n",
       "E01000009              0.303601             0.305987          0.001109   \n",
       "E01000011              0.283451             0.330394          0.000588   \n",
       "E01000012              0.274702             0.374573          0.000853   \n",
       "\n",
       "                c_percent no religion  c_percent muslim   \n",
       "geography code                                            \n",
       "E01000001                    0.483390          0.021695  \\\n",
       "E01000002                    0.491329          0.018786   \n",
       "E01000003                    0.479851          0.030998   \n",
       "E01000005                    0.221416          0.309437   \n",
       "E01000006                    0.070423          0.391116   \n",
       "E01000007                    0.125559          0.377365   \n",
       "E01000008                    0.100223          0.346882   \n",
       "E01000009                    0.092572          0.394124   \n",
       "E01000011                    0.054674          0.479130   \n",
       "E01000012                    0.136945          0.367321   \n",
       "\n",
       "                c_percent no central heating  c_percent wood heating  ...   \n",
       "geography code                                                        ...   \n",
       "E01000001                           0.026190                0.000000  ...  \\\n",
       "E01000002                           0.019417                0.001214  ...   \n",
       "E01000003                           0.035329                0.000000  ...   \n",
       "E01000005                           0.012526                0.000000  ...   \n",
       "E01000006                           0.027076                0.000000  ...   \n",
       "E01000007                           0.031040                0.000000  ...   \n",
       "E01000008                           0.027372                0.000000  ...   \n",
       "E01000009                           0.028333                0.000000  ...   \n",
       "E01000011                           0.038055                0.000000  ...   \n",
       "E01000012                           0.037084                0.000000  ...   \n",
       "\n",
       "                 e_trees   e_grass  e_flooded_vegetation   e_crops   \n",
       "geography code                                                       \n",
       "E01000001       0.053142  0.034637              0.037382  0.029789  \\\n",
       "E01000002       0.047079  0.032114              0.036503  0.028673   \n",
       "E01000003       0.057794  0.034344              0.035054  0.029642   \n",
       "E01000005       0.044154  0.030236              0.035305  0.028209   \n",
       "E01000006       0.066284  0.035672              0.033845  0.033294   \n",
       "E01000007       0.066161  0.034978              0.034301  0.032276   \n",
       "E01000008       0.102022  0.041083              0.035331  0.038354   \n",
       "E01000009       0.062609  0.032248              0.033476  0.038322   \n",
       "E01000011       0.121090  0.049614              0.033997  0.050135   \n",
       "E01000012       0.095412  0.035562              0.034244  0.034211   \n",
       "\n",
       "                e_shrub_and_scrub   e_built    e_bare  e_snow_and_ice   \n",
       "geography code                                                          \n",
       "E01000001                0.061613  0.487398  0.086469        0.092108  \\\n",
       "E01000002                0.062030  0.478821  0.094367        0.108474   \n",
       "E01000003                0.057333  0.541734  0.070082        0.088695   \n",
       "E01000005                0.061742  0.525229  0.109265        0.072893   \n",
       "E01000006                0.060597  0.598694  0.072455        0.032890   \n",
       "E01000007                0.064485  0.542067  0.087362        0.050718   \n",
       "E01000008                0.052078  0.587635  0.046533        0.034572   \n",
       "E01000009                0.066256  0.545876  0.089955        0.030667   \n",
       "E01000011                0.071378  0.458662  0.084793        0.034769   \n",
       "E01000012                0.066156  0.547945  0.073257        0.036261   \n",
       "\n",
       "                                 LSOA21NM   \n",
       "geography code                              \n",
       "E01000001             City of London 001A  \\\n",
       "E01000002             City of London 001B   \n",
       "E01000003             City of London 001C   \n",
       "E01000005             City of London 001E   \n",
       "E01000006       Barking and Dagenham 016A   \n",
       "E01000007       Barking and Dagenham 015A   \n",
       "E01000008       Barking and Dagenham 015B   \n",
       "E01000009       Barking and Dagenham 016B   \n",
       "E01000011       Barking and Dagenham 016C   \n",
       "E01000012       Barking and Dagenham 015D   \n",
       "\n",
       "                                                         geometry  \n",
       "geography code                                                     \n",
       "E01000001       POLYGON ((532105.312 182010.574, 532162.491 18...  \n",
       "E01000002       POLYGON ((532634.497 181926.016, 532619.141 18...  \n",
       "E01000003       POLYGON ((532135.138 182198.131, 532158.250 18...  \n",
       "E01000005       POLYGON ((533808.018 180767.774, 533649.037 18...  \n",
       "E01000006       POLYGON ((545122.049 184314.931, 545271.849 18...  \n",
       "E01000007       POLYGON ((544180.347 184700.582, 544317.196 18...  \n",
       "E01000008       MULTIPOLYGON (((543741.001 184566.000, 543806....  \n",
       "E01000009       POLYGON ((544499.837 184704.366, 544630.292 18...  \n",
       "E01000011       POLYGON ((544523.402 184789.039, 544667.055 18...  \n",
       "E01000012       POLYGON ((544240.061 184789.152, 544241.267 18...  \n",
       "\n",
       "[10 rows x 105 columns]"
      ]
     },
     "execution_count": 49,
     "metadata": {},
     "output_type": "execute_result"
    }
   ],
   "source": [
    "spatial_data = spatial_data.set_index('geography code')\n",
    "spatial_data.head(10)"
   ]
  },
  {
   "cell_type": "code",
   "execution_count": 50,
   "id": "0c3d8c13",
   "metadata": {},
   "outputs": [],
   "source": [
    "# region_spatial_data = region_spatial_data.set_index('geography code')\n",
    "# region_spatial_data.head()"
   ]
  },
  {
   "cell_type": "code",
   "execution_count": 50,
   "id": "123b9644",
   "metadata": {},
   "outputs": [
    {
     "data": {
      "text/plain": [
       "33755"
      ]
     },
     "execution_count": 50,
     "metadata": {},
     "output_type": "execute_result"
    }
   ],
   "source": [
    "# we see that we lose > 2K rows, i.e., LSOAs if we want to include region\n",
    "len(spatial_data) #, len(region_spatial_data)"
   ]
  },
  {
   "cell_type": "markdown",
   "id": "aab00bbb",
   "metadata": {},
   "source": [
    "# add cenotroid point for each LSOA"
   ]
  },
  {
   "cell_type": "code",
   "execution_count": 51,
   "id": "27ccc49a",
   "metadata": {},
   "outputs": [],
   "source": [
    "spatial_data = gpd.GeoDataFrame(spatial_data, geometry='geometry')\n",
    "\n",
    "spatial_data = spatial_data.to_crs(lsoas.crs)\n",
    "spatial_data['center_coordinates'] = spatial_data['geometry'].centroid\n",
    "\n",
    "spatial_data[\"centroid_x\"] = spatial_data[\"center_coordinates\"].apply(lambda p: p.x)\n",
    "spatial_data[\"centroid_y\"] = spatial_data[\"center_coordinates\"].apply(lambda p: p.y)\n",
    "\n",
    "del spatial_data['center_coordinates']"
   ]
  },
  {
   "cell_type": "code",
   "execution_count": 52,
   "id": "83d858ab",
   "metadata": {},
   "outputs": [],
   "source": [
    "# region_spatial_data = gpd.GeoDataFrame(region_spatial_data, geometry='geometry')\n",
    "# region_spatial_data = region_spatial_data.to_crs(lsoas.crs)\n",
    "# region_spatial_data['center_coordinates'] = region_spatial_data['geometry'].centroid\n",
    "\n",
    "# region_spatial_data[\"centroid_x\"] = region_spatial_data[\"center_coordinates\"].apply(lambda p: p.x)\n",
    "# region_spatial_data[\"centroid_y\"] = region_spatial_data[\"center_coordinates\"].apply(lambda p: p.y)"
   ]
  },
  {
   "cell_type": "code",
   "execution_count": 53,
   "id": "28d130ad",
   "metadata": {},
   "outputs": [
    {
     "name": "stdout",
     "output_type": "stream",
     "text": [
      "(33755, 107)\n"
     ]
    }
   ],
   "source": [
    "print(spatial_data.shape) #, print(region_spatial_data.shape)"
   ]
  },
  {
   "attachments": {},
   "cell_type": "markdown",
   "id": "d3bad3f1",
   "metadata": {},
   "source": [
    "## save .csv master file"
   ]
  },
  {
   "cell_type": "code",
   "execution_count": 54,
   "id": "644984de",
   "metadata": {},
   "outputs": [],
   "source": [
    "socdem_columns = [c for c in spatial_data.columns if c.startswith(\"c_\")]\n",
    "env_columns = [c for c in spatial_data.columns if c.startswith(\"e_\")]\n",
    "output_columns = [c for c in spatial_data.columns if c.startswith(\"o_\")]\n",
    "geo_columns = [\"LSOA21NM\", \"geometry\"]\n",
    "geo_columns = geo_columns +[c for c in spatial_data.columns if c.startswith(\"centroid_\")]\n",
    "\n",
    "columns_order = geo_columns + socdem_columns + env_columns + output_columns\n",
    "\n",
    "spatial_data = spatial_data[columns_order]"
   ]
  },
  {
   "cell_type": "code",
   "execution_count": 55,
   "id": "dfe1c770",
   "metadata": {},
   "outputs": [],
   "source": [
    "spatial_data.to_csv(collated_data_folder + '{}_spatial_raw_master.csv'.format(the_year))"
   ]
  },
  {
   "cell_type": "code",
   "execution_count": 56,
   "id": "e1b5321f",
   "metadata": {},
   "outputs": [],
   "source": [
    "# region_spatial_data.to_csv('../../data/point_data/{}_region_spatial_raw_master.csv'.format(the_year))"
   ]
  },
  {
   "cell_type": "markdown",
   "id": "d8c642eb",
   "metadata": {},
   "source": [
    "## save .geojson master file"
   ]
  },
  {
   "cell_type": "code",
   "execution_count": 57,
   "id": "fe67feed",
   "metadata": {},
   "outputs": [],
   "source": [
    "# here, we keep LSOA shape the main geometry; but we also save LSOA cenotroid points saved. this is useful for some othet types of models, such as spatial regression\n",
    "spatial_data_lsoa = spatial_data.copy()\n",
    "# del spatial_data_lsoa['center_coordinates']\n",
    "# spatial_data_lsoa['center_coordinates'] = spatial_data_lsoa['center_coordinates'].astype(str)\n",
    "spatial_data_lsoa.to_file(collated_data_folder + '{}_spatial_raw_master.geojson'.format(the_year), driver='GeoJSON')\n",
    "\n",
    "\n",
    "# # here, we keep LSOA centroid points as the main geometry; but we also save polygon geometries of LSOAs as lsoa_geometry. the reason is that for spatiall fold validation we need point coordinates for geometry\n",
    "# spatial_data.rename(columns={'geometry':'lsoa_geometry', 'center_coordinates':'geometry'}, inplace=True)\n",
    "# # spatial_data['center_coordinates'] = spatial_data['center_coordinates'].astype(str)\n",
    "# spatial_data['lsoa_geometry'] = spatial_data['lsoa_geometry'].astype(str)\n",
    "# spatial_data.to_file('../../data/point_data/{}_spatial_raw_master.geojson'.format(the_year), driver='GeoJSON')"
   ]
  },
  {
   "cell_type": "code",
   "execution_count": 58,
   "id": "c7fd5aa6",
   "metadata": {},
   "outputs": [],
   "source": [
    "# for col in spatial_data.columns:\n",
    "#     if spatial_data[col].dtype != 'float64':\n",
    "#         print(col, spatial_data[col].dtype)"
   ]
  },
  {
   "cell_type": "code",
   "execution_count": 60,
   "id": "36e65831",
   "metadata": {},
   "outputs": [],
   "source": [
    "# region_spatial_data.rename(columns={'geometry':'lsoa_geometry', 'center_coordinates':'geometry'}, inplace=True)\n",
    "\n",
    "# # spatial_data['center_coordinates'] = spatial_data['center_coordinates'].astype(str)\n",
    "# region_spatial_data['lsoa_geometry'] = region_spatial_data['lsoa_geometry'].astype(str)\n",
    "\n",
    "# region_spatial_data.to_file('../../data/point_data/{}_region_spatial_raw_master.geojson'.format(the_year), driver='GeoJSON')"
   ]
  },
  {
   "cell_type": "code",
   "execution_count": null,
   "id": "b605e45c",
   "metadata": {},
   "outputs": [],
   "source": []
  },
  {
   "cell_type": "code",
   "execution_count": null,
   "id": "328fbc9f",
   "metadata": {},
   "outputs": [],
   "source": []
  }
 ],
 "metadata": {
  "kernelspec": {
   "display_name": "Python 3 (ipykernel)",
   "language": "python",
   "name": "python3"
  },
  "language_info": {
   "codemirror_mode": {
    "name": "ipython",
    "version": 3
   },
   "file_extension": ".py",
   "mimetype": "text/x-python",
   "name": "python",
   "nbconvert_exporter": "python",
   "pygments_lexer": "ipython3",
   "version": "3.9.17"
  }
 },
 "nbformat": 4,
 "nbformat_minor": 5
}
