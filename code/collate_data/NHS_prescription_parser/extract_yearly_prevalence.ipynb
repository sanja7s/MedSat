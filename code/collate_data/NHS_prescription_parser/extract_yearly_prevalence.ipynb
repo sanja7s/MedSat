{
 "cells": [
  {
   "cell_type": "code",
   "execution_count": 1,
   "id": "aefab50b",
   "metadata": {},
   "outputs": [],
   "source": [
    "import pandas as pd"
   ]
  },
  {
   "cell_type": "markdown",
   "id": "0b9835ff",
   "metadata": {},
   "source": [
    "# Calculate yearly quantity per capita"
   ]
  },
  {
   "cell_type": "markdown",
   "id": "cb49e380",
   "metadata": {},
   "source": [
    "NSH parser date come as monthly per LSOA (2011 boundaries) total values.\n",
    "\n",
    "We extract yearly prevalence per LSOA, i.e., yearly quantity per capita.\n",
    "\n",
    "DO unzip (gunzip) the condition prevalence files in `output_folder` before running this notebook."
   ]
  },
  {
   "cell_type": "markdown",
   "id": "6feda206",
   "metadata": {},
   "source": [
    "## data locations"
   ]
  },
  {
   "cell_type": "code",
   "execution_count": 2,
   "id": "89ea2619",
   "metadata": {},
   "outputs": [],
   "source": [
    "# NHS input\n",
    "data_folder = 'data_prep/'\n",
    "# we save yearly condition prevalences\n",
    "output_folder = '../../../data/point_data/data_components/yearly_prescriptions/'"
   ]
  },
  {
   "cell_type": "code",
   "execution_count": null,
   "id": "bf4e9dac",
   "metadata": {},
   "outputs": [],
   "source": []
  },
  {
   "cell_type": "markdown",
   "id": "7452d5cd",
   "metadata": {},
   "source": [
    "# Calculate prevalence Per LSOA"
   ]
  },
  {
   "cell_type": "markdown",
   "id": "13bd20c4",
   "metadata": {},
   "source": [
    "## Functions"
   ]
  },
  {
   "cell_type": "code",
   "execution_count": 3,
   "id": "a0b78b9a",
   "metadata": {},
   "outputs": [],
   "source": [
    "def extract_yearly_prevalence(condition, year):\n",
    "   \n",
    "    if condition == 'total':\n",
    "        selected_columns = ['Total_quantity','Total_cost', 'Total_items']\n",
    "    elif condition == 'opioids':\n",
    "        selected_columns = ['Total_quantity','OME','Total_cost', 'Total_items']\n",
    "    else:\n",
    "        selected_columns = ['Total_quantity','Total_cost', 'Total_items'] # 'Dosage_ratio',\n",
    "    \n",
    "    \n",
    "    file_name = '{}_v4.csv'.format(condition)\n",
    "    prescriptions_file = data_folder + file_name\n",
    "    data = pd.read_csv(prescriptions_file)\n",
    "    \n",
    "    # print (data.head())\n",
    "    \n",
    "    def year_in_column(x, year):\n",
    "        return x[:4] == year\n",
    "    \n",
    "    df = data[data['YYYYMM'].astype(str).apply(lambda x: year_in_column(x, year))]\n",
    "    \n",
    "    patients_lsoa = df[['LSOA_CODE', 'Patient_count']].drop_duplicates()\\\n",
    "                    .set_index('LSOA_CODE')\n",
    "    \n",
    "    totals_lsoa = df.groupby(['LSOA_CODE'])[selected_columns]\\\n",
    "                            .sum().reset_index().set_index('LSOA_CODE')\n",
    "    \n",
    "    prev_lsoa = totals_lsoa.join(patients_lsoa)\n",
    "    \n",
    "    for c in selected_columns:\n",
    "        prev_lsoa[c+'_per_capita']=prev_lsoa[c]/prev_lsoa['Patient_count']\n",
    "            \n",
    "    prev_lsoa['year'] = year\n",
    "    \n",
    "    return prev_lsoa"
   ]
  },
  {
   "cell_type": "code",
   "execution_count": 4,
   "id": "d91775eb",
   "metadata": {},
   "outputs": [],
   "source": [
    "def extract_all(condition):\n",
    "    print (\"PROCESSING {} condition ...\".format(condition))\n",
    "    res = pd.DataFrame()\n",
    "    for y in range(2019,2021):\n",
    "        year = str(y)\n",
    "        print (\"PROCESSING {} year;\".format(y))\n",
    "        res_year = extract_yearly_prevalence(condition, year)\n",
    "        res = pd.concat([res,res_year])\n",
    "    return res"
   ]
  },
  {
   "cell_type": "code",
   "execution_count": 86,
   "id": "da794f36",
   "metadata": {},
   "outputs": [
    {
     "name": "stdout",
     "output_type": "stream",
     "text": [
      "PROCESSING diabetes condition ...\n",
      "PROCESSING 2015 year;\n",
      "PROCESSING 2016 year;\n",
      "PROCESSING 2017 year;\n",
      "PROCESSING 2018 year;\n",
      "PROCESSING 2019 year;\n",
      "PROCESSING 2020 year;\n"
     ]
    }
   ],
   "source": [
    "condition = 'diabetes'\n",
    "all_prescriptions = extract_all(condition)\n",
    "all_prescriptions.to_csv(output_folder+'/yearly_prescriptions_{}.csv'.format(condition))"
   ]
  },
  {
   "cell_type": "code",
   "execution_count": 87,
   "id": "e462c8cb",
   "metadata": {},
   "outputs": [
    {
     "name": "stdout",
     "output_type": "stream",
     "text": [
      "PROCESSING total condition ...\n",
      "PROCESSING 2015 year;\n",
      "PROCESSING 2016 year;\n",
      "PROCESSING 2017 year;\n",
      "PROCESSING 2018 year;\n",
      "PROCESSING 2019 year;\n",
      "PROCESSING 2020 year;\n"
     ]
    }
   ],
   "source": [
    "condition = 'total'\n",
    "all_prescriptions = extract_all(condition)\n",
    "all_prescriptions.to_csv(output_folder+'/yearly_prescriptions_{}.csv'.format(condition))"
   ]
  },
  {
   "cell_type": "code",
   "execution_count": 88,
   "id": "1d2fe48d",
   "metadata": {},
   "outputs": [
    {
     "name": "stdout",
     "output_type": "stream",
     "text": [
      "PROCESSING opioids condition ...\n",
      "PROCESSING 2015 year;\n",
      "PROCESSING 2016 year;\n",
      "PROCESSING 2017 year;\n",
      "PROCESSING 2018 year;\n",
      "PROCESSING 2019 year;\n",
      "PROCESSING 2020 year;\n"
     ]
    }
   ],
   "source": [
    "condition = 'opioids'\n",
    "all_prescriptions = extract_all(condition)\n",
    "all_prescriptions.to_csv(output_folder+'/yearly_prescriptions_{}.csv'.format(condition))"
   ]
  },
  {
   "cell_type": "code",
   "execution_count": null,
   "id": "47bc3fb7",
   "metadata": {},
   "outputs": [],
   "source": []
  },
  {
   "cell_type": "code",
   "execution_count": 6,
   "id": "d1416cb9",
   "metadata": {},
   "outputs": [
    {
     "name": "stdout",
     "output_type": "stream",
     "text": [
      "PROCESSING asthma condition ...\n",
      "PROCESSING 2015 year;\n",
      "PROCESSING 2016 year;\n",
      "PROCESSING 2017 year;\n",
      "PROCESSING 2018 year;\n",
      "PROCESSING 2019 year;\n",
      "PROCESSING 2020 year;\n"
     ]
    }
   ],
   "source": [
    "condition = 'asthma'\n",
    "all_prescriptions = extract_all(condition)\n",
    "all_prescriptions.to_csv(output_folder+'/yearly_prescriptions_{}.csv'.format(condition))"
   ]
  },
  {
   "cell_type": "code",
   "execution_count": 7,
   "id": "0e733928",
   "metadata": {},
   "outputs": [
    {
     "name": "stdout",
     "output_type": "stream",
     "text": [
      "PROCESSING anxiety condition ...\n",
      "PROCESSING 2019 year;\n",
      "PROCESSING 2020 year;\n"
     ]
    }
   ],
   "source": [
    "condition = 'anxiety'\n",
    "all_prescriptions = extract_all(condition)\n",
    "all_prescriptions.to_csv(output_folder+'/yearly_prescriptions_{}.csv'.format(condition))"
   ]
  },
  {
   "cell_type": "code",
   "execution_count": 24,
   "id": "a67f94e0",
   "metadata": {},
   "outputs": [
    {
     "name": "stdout",
     "output_type": "stream",
     "text": [
      "PROCESSING depression condition ...\n",
      "PROCESSING 2019 year;\n",
      "PROCESSING 2020 year;\n"
     ]
    }
   ],
   "source": [
    "condition = 'depression'\n",
    "all_prescriptions = extract_all(condition)\n",
    "all_prescriptions.to_csv(output_folder+'/yearly_prescriptions_{}.csv'.format(condition))"
   ]
  },
  {
   "cell_type": "code",
   "execution_count": 9,
   "id": "df79055d",
   "metadata": {},
   "outputs": [
    {
     "name": "stdout",
     "output_type": "stream",
     "text": [
      "PROCESSING hypertension condition ...\n",
      "PROCESSING 2015 year;\n",
      "PROCESSING 2016 year;\n",
      "PROCESSING 2017 year;\n",
      "PROCESSING 2018 year;\n",
      "PROCESSING 2019 year;\n",
      "PROCESSING 2020 year;\n"
     ]
    }
   ],
   "source": [
    "condition = 'hypertension'\n",
    "all_prescriptions = extract_all(condition)\n",
    "all_prescriptions.to_csv(output_folder+'/yearly_prescriptions_{}.csv'.format(condition))"
   ]
  },
  {
   "cell_type": "code",
   "execution_count": null,
   "id": "a9f3e203",
   "metadata": {},
   "outputs": [],
   "source": []
  },
  {
   "cell_type": "code",
   "execution_count": null,
   "id": "60d68291",
   "metadata": {},
   "outputs": [],
   "source": []
  },
  {
   "cell_type": "markdown",
   "id": "a7ec1c77",
   "metadata": {},
   "source": [
    "the code below can be deleted-- it was just a check"
   ]
  },
  {
   "cell_type": "markdown",
   "id": "3ed2c0b5",
   "metadata": {},
   "source": [
    "## check which LSOA ids do we have here"
   ]
  },
  {
   "cell_type": "code",
   "execution_count": 166,
   "id": "8d9c8892",
   "metadata": {},
   "outputs": [],
   "source": [
    "lsoa_names_ids_2011 = pd.read_csv('../data7s/lsoas_names_ids_2011.csv')\n",
    "lsoa_names_ids_2021 = pd.read_csv('../data7s/lsoas_names_ids_2021.csv')"
   ]
  },
  {
   "cell_type": "code",
   "execution_count": 128,
   "id": "a3cb9d33",
   "metadata": {},
   "outputs": [],
   "source": [
    "df = all_prescriptions.reset_index()\n",
    "df['year'] = df['year'].astype(int)"
   ]
  },
  {
   "cell_type": "code",
   "execution_count": 163,
   "id": "ce280008",
   "metadata": {},
   "outputs": [],
   "source": [
    "df_2016 = df[df['year']==2016]"
   ]
  },
  {
   "cell_type": "code",
   "execution_count": 164,
   "id": "7c9d7916",
   "metadata": {},
   "outputs": [],
   "source": [
    "df_2020 = df[df['year']==2020]"
   ]
  },
  {
   "cell_type": "code",
   "execution_count": null,
   "id": "230ac4f7",
   "metadata": {},
   "outputs": [],
   "source": []
  },
  {
   "cell_type": "code",
   "execution_count": 165,
   "id": "7980887f",
   "metadata": {},
   "outputs": [
    {
     "data": {
      "text/html": [
       "<div>\n",
       "<style scoped>\n",
       "    .dataframe tbody tr th:only-of-type {\n",
       "        vertical-align: middle;\n",
       "    }\n",
       "\n",
       "    .dataframe tbody tr th {\n",
       "        vertical-align: top;\n",
       "    }\n",
       "\n",
       "    .dataframe thead th {\n",
       "        text-align: right;\n",
       "    }\n",
       "</style>\n",
       "<table border=\"1\" class=\"dataframe\">\n",
       "  <thead>\n",
       "    <tr style=\"text-align: right;\">\n",
       "      <th></th>\n",
       "      <th>LSOA_CODE</th>\n",
       "      <th>Total_quantity</th>\n",
       "      <th>OME</th>\n",
       "      <th>Total_cost</th>\n",
       "      <th>Total_items</th>\n",
       "      <th>Patient_count</th>\n",
       "      <th>Total_quantity_per_capita</th>\n",
       "      <th>OME_per_capita</th>\n",
       "      <th>Total_cost_per_capita</th>\n",
       "      <th>Total_items_per_capita</th>\n",
       "      <th>year</th>\n",
       "    </tr>\n",
       "  </thead>\n",
       "  <tbody>\n",
       "    <tr>\n",
       "      <th>32840</th>\n",
       "      <td>E01000001</td>\n",
       "      <td>261.783149</td>\n",
       "      <td>2.195221e+03</td>\n",
       "      <td>24.506268</td>\n",
       "      <td>2.767281</td>\n",
       "      <td>1606.0</td>\n",
       "      <td>0.163003</td>\n",
       "      <td>1.366887</td>\n",
       "      <td>0.015259</td>\n",
       "      <td>0.001723</td>\n",
       "      <td>2016</td>\n",
       "    </tr>\n",
       "    <tr>\n",
       "      <th>32841</th>\n",
       "      <td>E01000002</td>\n",
       "      <td>502.626898</td>\n",
       "      <td>4.491180e+03</td>\n",
       "      <td>64.416224</td>\n",
       "      <td>5.708275</td>\n",
       "      <td>1527.0</td>\n",
       "      <td>0.329160</td>\n",
       "      <td>2.941179</td>\n",
       "      <td>0.042185</td>\n",
       "      <td>0.003738</td>\n",
       "      <td>2016</td>\n",
       "    </tr>\n",
       "    <tr>\n",
       "      <th>32842</th>\n",
       "      <td>E01000003</td>\n",
       "      <td>1296.770907</td>\n",
       "      <td>1.068081e+04</td>\n",
       "      <td>128.903142</td>\n",
       "      <td>13.647131</td>\n",
       "      <td>1713.0</td>\n",
       "      <td>0.757017</td>\n",
       "      <td>6.235150</td>\n",
       "      <td>0.075250</td>\n",
       "      <td>0.007967</td>\n",
       "      <td>2016</td>\n",
       "    </tr>\n",
       "    <tr>\n",
       "      <th>32843</th>\n",
       "      <td>E01000005</td>\n",
       "      <td>277.983626</td>\n",
       "      <td>2.216404e+03</td>\n",
       "      <td>32.507481</td>\n",
       "      <td>3.246746</td>\n",
       "      <td>1443.0</td>\n",
       "      <td>0.192643</td>\n",
       "      <td>1.535969</td>\n",
       "      <td>0.022528</td>\n",
       "      <td>0.002250</td>\n",
       "      <td>2016</td>\n",
       "    </tr>\n",
       "    <tr>\n",
       "      <th>32844</th>\n",
       "      <td>E01000006</td>\n",
       "      <td>12162.183782</td>\n",
       "      <td>2.721559e+06</td>\n",
       "      <td>1832.887485</td>\n",
       "      <td>137.701629</td>\n",
       "      <td>2183.0</td>\n",
       "      <td>5.571316</td>\n",
       "      <td>1246.705879</td>\n",
       "      <td>0.839619</td>\n",
       "      <td>0.063079</td>\n",
       "      <td>2016</td>\n",
       "    </tr>\n",
       "    <tr>\n",
       "      <th>...</th>\n",
       "      <td>...</td>\n",
       "      <td>...</td>\n",
       "      <td>...</td>\n",
       "      <td>...</td>\n",
       "      <td>...</td>\n",
       "      <td>...</td>\n",
       "      <td>...</td>\n",
       "      <td>...</td>\n",
       "      <td>...</td>\n",
       "      <td>...</td>\n",
       "      <td>...</td>\n",
       "    </tr>\n",
       "    <tr>\n",
       "      <th>65675</th>\n",
       "      <td>E01033764</td>\n",
       "      <td>46679.972730</td>\n",
       "      <td>4.353097e+05</td>\n",
       "      <td>4708.687078</td>\n",
       "      <td>502.942642</td>\n",
       "      <td>3679.0</td>\n",
       "      <td>12.688223</td>\n",
       "      <td>118.322820</td>\n",
       "      <td>1.279882</td>\n",
       "      <td>0.136706</td>\n",
       "      <td>2016</td>\n",
       "    </tr>\n",
       "    <tr>\n",
       "      <th>65676</th>\n",
       "      <td>E01033765</td>\n",
       "      <td>8642.192429</td>\n",
       "      <td>8.241832e+04</td>\n",
       "      <td>1119.106325</td>\n",
       "      <td>120.124204</td>\n",
       "      <td>1717.0</td>\n",
       "      <td>5.033310</td>\n",
       "      <td>48.001354</td>\n",
       "      <td>0.651780</td>\n",
       "      <td>0.069962</td>\n",
       "      <td>2016</td>\n",
       "    </tr>\n",
       "    <tr>\n",
       "      <th>65677</th>\n",
       "      <td>E01033766</td>\n",
       "      <td>3930.822907</td>\n",
       "      <td>3.663216e+04</td>\n",
       "      <td>487.178697</td>\n",
       "      <td>43.747314</td>\n",
       "      <td>946.0</td>\n",
       "      <td>4.155204</td>\n",
       "      <td>38.723218</td>\n",
       "      <td>0.514988</td>\n",
       "      <td>0.046245</td>\n",
       "      <td>2016</td>\n",
       "    </tr>\n",
       "    <tr>\n",
       "      <th>65678</th>\n",
       "      <td>E01033767</td>\n",
       "      <td>5920.577525</td>\n",
       "      <td>5.355674e+04</td>\n",
       "      <td>950.187482</td>\n",
       "      <td>77.206323</td>\n",
       "      <td>1152.0</td>\n",
       "      <td>5.139390</td>\n",
       "      <td>46.490228</td>\n",
       "      <td>0.824816</td>\n",
       "      <td>0.067019</td>\n",
       "      <td>2016</td>\n",
       "    </tr>\n",
       "    <tr>\n",
       "      <th>65679</th>\n",
       "      <td>E01033768</td>\n",
       "      <td>23464.663513</td>\n",
       "      <td>2.316044e+05</td>\n",
       "      <td>3545.146912</td>\n",
       "      <td>287.428793</td>\n",
       "      <td>1241.0</td>\n",
       "      <td>18.907867</td>\n",
       "      <td>186.627234</td>\n",
       "      <td>2.856686</td>\n",
       "      <td>0.231611</td>\n",
       "      <td>2016</td>\n",
       "    </tr>\n",
       "  </tbody>\n",
       "</table>\n",
       "<p>32840 rows × 11 columns</p>\n",
       "</div>"
      ],
      "text/plain": [
       "       LSOA_CODE  Total_quantity           OME   Total_cost  Total_items  \\\n",
       "32840  E01000001      261.783149  2.195221e+03    24.506268     2.767281   \n",
       "32841  E01000002      502.626898  4.491180e+03    64.416224     5.708275   \n",
       "32842  E01000003     1296.770907  1.068081e+04   128.903142    13.647131   \n",
       "32843  E01000005      277.983626  2.216404e+03    32.507481     3.246746   \n",
       "32844  E01000006    12162.183782  2.721559e+06  1832.887485   137.701629   \n",
       "...          ...             ...           ...          ...          ...   \n",
       "65675  E01033764    46679.972730  4.353097e+05  4708.687078   502.942642   \n",
       "65676  E01033765     8642.192429  8.241832e+04  1119.106325   120.124204   \n",
       "65677  E01033766     3930.822907  3.663216e+04   487.178697    43.747314   \n",
       "65678  E01033767     5920.577525  5.355674e+04   950.187482    77.206323   \n",
       "65679  E01033768    23464.663513  2.316044e+05  3545.146912   287.428793   \n",
       "\n",
       "       Patient_count  Total_quantity_per_capita  OME_per_capita  \\\n",
       "32840         1606.0                   0.163003        1.366887   \n",
       "32841         1527.0                   0.329160        2.941179   \n",
       "32842         1713.0                   0.757017        6.235150   \n",
       "32843         1443.0                   0.192643        1.535969   \n",
       "32844         2183.0                   5.571316     1246.705879   \n",
       "...              ...                        ...             ...   \n",
       "65675         3679.0                  12.688223      118.322820   \n",
       "65676         1717.0                   5.033310       48.001354   \n",
       "65677          946.0                   4.155204       38.723218   \n",
       "65678         1152.0                   5.139390       46.490228   \n",
       "65679         1241.0                  18.907867      186.627234   \n",
       "\n",
       "       Total_cost_per_capita  Total_items_per_capita  year  \n",
       "32840               0.015259                0.001723  2016  \n",
       "32841               0.042185                0.003738  2016  \n",
       "32842               0.075250                0.007967  2016  \n",
       "32843               0.022528                0.002250  2016  \n",
       "32844               0.839619                0.063079  2016  \n",
       "...                      ...                     ...   ...  \n",
       "65675               1.279882                0.136706  2016  \n",
       "65676               0.651780                0.069962  2016  \n",
       "65677               0.514988                0.046245  2016  \n",
       "65678               0.824816                0.067019  2016  \n",
       "65679               2.856686                0.231611  2016  \n",
       "\n",
       "[32840 rows x 11 columns]"
      ]
     },
     "execution_count": 165,
     "metadata": {},
     "output_type": "execute_result"
    }
   ],
   "source": [
    "df_2016['LSOA_CODE']"
   ]
  },
  {
   "cell_type": "code",
   "execution_count": 172,
   "id": "6c2420ef",
   "metadata": {},
   "outputs": [
    {
     "data": {
      "text/plain": [
       "32833"
      ]
     },
     "execution_count": 172,
     "metadata": {},
     "output_type": "execute_result"
    }
   ],
   "source": [
    "len(set(lsoa_names_ids_2011['lsoa_code']).intersection(set(df_2020['LSOA_CODE'])))"
   ]
  },
  {
   "cell_type": "code",
   "execution_count": 173,
   "id": "9c015953",
   "metadata": {},
   "outputs": [
    {
     "data": {
      "text/plain": [
       "31799"
      ]
     },
     "execution_count": 173,
     "metadata": {},
     "output_type": "execute_result"
    }
   ],
   "source": [
    "len(set(lsoa_names_ids_2021['lsoa_code']).intersection(set(df_2020['LSOA_CODE'])))"
   ]
  },
  {
   "cell_type": "code",
   "execution_count": 177,
   "id": "dcfc0e29",
   "metadata": {},
   "outputs": [
    {
     "data": {
      "text/plain": [
       "32833"
      ]
     },
     "execution_count": 177,
     "metadata": {},
     "output_type": "execute_result"
    }
   ],
   "source": [
    "len(set(df_2020['LSOA_CODE']))"
   ]
  },
  {
   "cell_type": "code",
   "execution_count": 174,
   "id": "0566276d",
   "metadata": {},
   "outputs": [
    {
     "data": {
      "text/plain": [
       "(35672, 34753)"
      ]
     },
     "execution_count": 174,
     "metadata": {},
     "output_type": "execute_result"
    }
   ],
   "source": [
    "len(lsoa_names_ids_2021), len(lsoa_names_ids_2011)"
   ]
  },
  {
   "cell_type": "code",
   "execution_count": 175,
   "id": "6e1ce76e",
   "metadata": {},
   "outputs": [
    {
     "data": {
      "text/plain": [
       "31806"
      ]
     },
     "execution_count": 175,
     "metadata": {},
     "output_type": "execute_result"
    }
   ],
   "source": [
    "len(set(lsoa_names_ids_2021['lsoa_code']).intersection(set(df_2016['LSOA_CODE'])))"
   ]
  },
  {
   "cell_type": "code",
   "execution_count": 176,
   "id": "f4eea0a0",
   "metadata": {},
   "outputs": [
    {
     "data": {
      "text/plain": [
       "32840"
      ]
     },
     "execution_count": 176,
     "metadata": {},
     "output_type": "execute_result"
    }
   ],
   "source": [
    "len(set(lsoa_names_ids_2011['lsoa_code']).intersection(set(df_2016['LSOA_CODE'])))"
   ]
  },
  {
   "cell_type": "code",
   "execution_count": 178,
   "id": "0d3084f7",
   "metadata": {},
   "outputs": [
    {
     "data": {
      "text/plain": [
       "32840"
      ]
     },
     "execution_count": 178,
     "metadata": {},
     "output_type": "execute_result"
    }
   ],
   "source": [
    "len(set(df_2016['LSOA_CODE']))"
   ]
  },
  {
   "cell_type": "markdown",
   "id": "e04913e3",
   "metadata": {},
   "source": [
    "## the conclusion is LSOAs 2011 for all the years"
   ]
  },
  {
   "cell_type": "code",
   "execution_count": null,
   "id": "23f43b8e",
   "metadata": {},
   "outputs": [],
   "source": []
  },
  {
   "cell_type": "code",
   "execution_count": null,
   "id": "032190e9",
   "metadata": {},
   "outputs": [],
   "source": []
  }
 ],
 "metadata": {
  "kernelspec": {
   "display_name": "Python 3 (ipykernel)",
   "language": "python",
   "name": "python3"
  },
  "language_info": {
   "codemirror_mode": {
    "name": "ipython",
    "version": 3
   },
   "file_extension": ".py",
   "mimetype": "text/x-python",
   "name": "python",
   "nbconvert_exporter": "python",
   "pygments_lexer": "ipython3",
   "version": "3.9.17"
  }
 },
 "nbformat": 4,
 "nbformat_minor": 5
}
