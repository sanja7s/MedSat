{
 "cells": [
  {
   "cell_type": "code",
   "execution_count": 1,
   "id": "dac94a13",
   "metadata": {},
   "outputs": [],
   "source": [
    "import pandas as pd\n",
    "import numpy as np\n",
    "from sklearn import preprocessing\n",
    "from sklearn.preprocessing import MinMaxScaler\n",
    "from sklearn.model_selection import train_test_split\n",
    "import geopandas as gpd"
   ]
  },
  {
   "attachments": {},
   "cell_type": "markdown",
   "id": "4400e1ae",
   "metadata": {},
   "source": [
    "# get data: controls and outcomes"
   ]
  },
  {
   "cell_type": "code",
   "execution_count": 2,
   "id": "c4d7edaa",
   "metadata": {},
   "outputs": [
    {
     "data": {
      "text/plain": [
       "(35672, 35672, 35672, 35672)"
      ]
     },
     "execution_count": 2,
     "metadata": {},
     "output_type": "execute_result"
    }
   ],
   "source": [
    "controls = pd.read_csv('../data/glavni/controls.csv')\n",
    "# replace quotes in column names\n",
    "controls.columns = controls.columns.str.replace('\"', '')\n",
    "controls.columns = controls.columns.str.replace(':', '')\n",
    "controls.columns = controls.columns.str.replace(',', '')\n",
    "controls.rename(columns={c:\"c_\"+c for c in controls.columns if not c in ['geography code', 'geography']}, inplace=True)\n",
    "\n",
    "controls = controls.drop_duplicates()\n",
    "\n",
    "\n",
    "len(controls), len(controls.drop_duplicates()), len(set(controls.index)), len(controls['geography code'].unique())"
   ]
  },
  {
   "cell_type": "code",
   "execution_count": 3,
   "id": "e2659d52",
   "metadata": {},
   "outputs": [
    {
     "data": {
      "text/plain": [
       "Index(['geography code', 'c_percent asian', 'c_percent black',\n",
       "       'c_percent mixed', 'c_percent white', 'c_percent christian',\n",
       "       'c_percent jewish', 'c_percent no religion', 'c_percent muslim',\n",
       "       'c_percent no central heating', 'c_percent wood heating',\n",
       "       'c_percent communal heating', 'c_percent TFW less than 2km',\n",
       "       'c_percent TFW 2km to 5km', 'c_percent TFW 60km and over',\n",
       "       'c_percent WFH', 'c_percent part-time',\n",
       "       'c_percent 15 hours or less worked',\n",
       "       'c_percent 49 or more hours worked', 'c_percent commute on foot',\n",
       "       'c_percent commute bus', 'c_percent commute bicycle',\n",
       "       'c_percent same address', 'c_percent student moved to address',\n",
       "       'c_percent occupancy rating bedrooms +2',\n",
       "       'c_percent occupancy rating bedrooms 0',\n",
       "       'c_percent occupancy rating bedrooms -2',\n",
       "       'c_percent occupancy rating rooms +2',\n",
       "       'c_percent occupancy rating rooms 0',\n",
       "       'c_percent occupancy rating rooms -2',\n",
       "       'c_percent 1. Managers directors and senior officials',\n",
       "       'c_percent 2. Professional occupations',\n",
       "       'c_percent 6. Caring leisure and other service occupations',\n",
       "       'c_percent 7. Sales and customer service occupations',\n",
       "       'c_percent 9. Elementary occupations', 'c_percent born in the UK',\n",
       "       'c_percent 10 years or more',\n",
       "       'c_percent 2 years or more but less than 5 years',\n",
       "       'c_percent less than 2 years', 'c_pop_density', 'geography',\n",
       "       'c_percent children up to 14', 'c_percent aged 65plus',\n",
       "       'c_percent married or in civil partnership', 'c_percent unemployed',\n",
       "       'c_percent very good health', 'c_percent bad health',\n",
       "       'c_percent poor-english', 'c_percent highly-deprived',\n",
       "       'c_percent mid-deprived', 'c_percent male', 'c_total population'],\n",
       "      dtype='object')"
      ]
     },
     "execution_count": 3,
     "metadata": {},
     "output_type": "execute_result"
    }
   ],
   "source": [
    "controls.columns"
   ]
  },
  {
   "cell_type": "code",
   "execution_count": 12,
   "id": "7bba754c",
   "metadata": {},
   "outputs": [
    {
     "data": {
      "text/plain": [
       "(32833, 32833, 32833, 32833)"
      ]
     },
     "execution_count": 12,
     "metadata": {},
     "output_type": "execute_result"
    }
   ],
   "source": [
    "outcomes = pd.read_csv('../data/glavni/outcomes.csv')\n",
    "outcomes.rename(columns={c:\"o_\"+c for c in outcomes.columns if not c in ['geography code', 'geography']}, inplace=True)\n",
    "\n",
    "outcomes = outcomes.drop_duplicates()\n",
    "\n",
    "len(outcomes), len(outcomes.drop_duplicates()), len(set(outcomes.index)), len(outcomes['geography code'].unique())"
   ]
  },
  {
   "cell_type": "code",
   "execution_count": 13,
   "id": "6691b262",
   "metadata": {},
   "outputs": [
    {
     "data": {
      "text/plain": [
       "(36778, 36778, 36778, 33804)"
      ]
     },
     "execution_count": 13,
     "metadata": {},
     "output_type": "execute_result"
    }
   ],
   "source": [
    "env = pd.read_csv('../data/glavni/environment.csv').rename(columns={'LSOA21CD':'geography code'})\n",
    "del env['LSOA21NM']\n",
    "env.rename(columns={c:\"e_\"+c for c in env.columns if not c in ['geography code', 'geography']}, inplace=True)\n",
    "\n",
    "del env['e_Snow and ice']\n",
    "del env['e_Mangroves']\n",
    "\n",
    "env.rename(columns={'e_Bare / sparse vegetation':'e_Bare sparse vegetation'}, inplace=True)\n",
    "# del env['e_evaporation_from_open_water_surfaces_excluding_oceans_sum']\n",
    "\n",
    "env = env.drop_duplicates()\n",
    "\n",
    "len(env), len(env.drop_duplicates()), len(set(env.index)), len(env['geography code'].unique())"
   ]
  },
  {
   "cell_type": "code",
   "execution_count": 14,
   "id": "22230650",
   "metadata": {},
   "outputs": [
    {
     "data": {
      "text/plain": [
       "Index(['geography code', 'e_NO2', 'e_ozone',\n",
       "       'e_total_aerosol_optical_depth_at_550nm_surface',\n",
       "       'e_particulate_matter_d_less_than_25_um_surface', 'e_ndvi',\n",
       "       'e_dewpoint_temperature_2m', 'e_temperature_2m',\n",
       "       'e_soil_temperature_level_1', 'e_soil_temperature_level_3',\n",
       "       'e_lake_bottom_temperature', 'e_lake_mix_layer_depth',\n",
       "       'e_lake_mix_layer_temperature', 'e_lake_total_layer_temperature',\n",
       "       'e_snow_albedo', 'e_snow_cover', 'e_snow_density', 'e_snow_depth',\n",
       "       'e_skin_reservoir_content', 'e_volumetric_soil_water_layer_1',\n",
       "       'e_volumetric_soil_water_layer_3', 'e_surface_latent_heat_flux_sum',\n",
       "       'e_surface_net_solar_radiation_sum',\n",
       "       'e_surface_solar_radiation_downwards_sum',\n",
       "       'e_surface_thermal_radiation_downwards_sum',\n",
       "       'e_evaporation_from_bare_soil_sum',\n",
       "       'e_evaporation_from_the_top_of_canopy_sum',\n",
       "       'e_evaporation_from_open_water_surfaces_excluding_oceans_sum',\n",
       "       'e_total_evaporation_sum', 'e_u_component_of_wind_10m',\n",
       "       'e_v_component_of_wind_10m', 'e_surface_pressure',\n",
       "       'e_total_precipitation_sum', 'e_leaf_area_index_high_vegetation',\n",
       "       'e_leaf_area_index_low_vegetation', 'e_surface_runoff_sum',\n",
       "       'e_Tree cover', 'e_Shrubland', 'e_Grassland', 'e_Cropland',\n",
       "       'e_Built-up', 'e_Bare sparse vegetation', 'e_Permanent water bodies',\n",
       "       'e_Herbaceous wetland', 'e_Moss and lichen'],\n",
       "      dtype='object')"
      ]
     },
     "execution_count": 14,
     "metadata": {},
     "output_type": "execute_result"
    }
   ],
   "source": [
    "env.columns"
   ]
  },
  {
   "cell_type": "code",
   "execution_count": 15,
   "id": "eddd15c3",
   "metadata": {},
   "outputs": [],
   "source": [
    "env=env.fillna(0.0)"
   ]
  },
  {
   "attachments": {},
   "cell_type": "markdown",
   "id": "176eccf4",
   "metadata": {},
   "source": [
    "# merge"
   ]
  },
  {
   "cell_type": "code",
   "execution_count": 16,
   "id": "f3318e60",
   "metadata": {},
   "outputs": [],
   "source": [
    "data = controls.merge(outcomes, on=['geography code'])\n",
    "data = data.merge(env, on=['geography code'])"
   ]
  },
  {
   "cell_type": "code",
   "execution_count": 17,
   "id": "26d7966c",
   "metadata": {},
   "outputs": [
    {
     "data": {
      "text/plain": [
       "(34670, 34670, 34670, 31799)"
      ]
     },
     "execution_count": 17,
     "metadata": {},
     "output_type": "execute_result"
    }
   ],
   "source": [
    "len(data), len(data.drop_duplicates()), len(set(data.index)), len(data['geography code'].unique())"
   ]
  },
  {
   "attachments": {},
   "cell_type": "markdown",
   "id": "96d83c89",
   "metadata": {},
   "source": [
    "# remove duplicates"
   ]
  },
  {
   "cell_type": "code",
   "execution_count": 18,
   "id": "78f01d44",
   "metadata": {},
   "outputs": [
    {
     "data": {
      "text/plain": [
       "(31799, 31799, 31799, 31799)"
      ]
     },
     "execution_count": 18,
     "metadata": {},
     "output_type": "execute_result"
    }
   ],
   "source": [
    "# group the dataframe by 'geography code' and select the first element from each group\n",
    "# data = data.reset_index().rename(columns={'index': 'geography code'})\n",
    "data = data.groupby('geography code').first()\n",
    "data = data.reset_index().rename(columns={'index': 'geography code'})\n",
    "len(data), len(data.drop_duplicates()), len(set(data.index)), len(data['geography code'].unique())"
   ]
  },
  {
   "attachments": {},
   "cell_type": "markdown",
   "id": "40be98ac",
   "metadata": {},
   "source": [
    "## save raw master"
   ]
  },
  {
   "cell_type": "code",
   "execution_count": 19,
   "id": "cf25d92c",
   "metadata": {},
   "outputs": [],
   "source": [
    "data.to_csv('../data/glavni/raw_master.csv', index=None)"
   ]
  },
  {
   "attachments": {},
   "cell_type": "markdown",
   "id": "10bdcf01",
   "metadata": {},
   "source": []
  },
  {
   "attachments": {},
   "cell_type": "markdown",
   "id": "1c5459ee",
   "metadata": {},
   "source": [
    "# create a test / train split and save for future uses"
   ]
  },
  {
   "cell_type": "code",
   "execution_count": 36,
   "id": "c5993465",
   "metadata": {},
   "outputs": [],
   "source": [
    "df = data.set_index('geography code')\n",
    "\n",
    "# Separate features and target variable\n",
    "X = df.filter(regex='^(c_|e_)') # Select columns starting with 'c_' or 'e_'\n",
    "y = df.filter(regex='^(o_)') # Select columns starting with 'c_' or 'e_'\n",
    "\n",
    "# Split data into train and test sets\n",
    "X_train, X_test, y_train, y_test = train_test_split(X, y, test_size=0.2, random_state=44)\n",
    "\n",
    "# Save train and test sets\n",
    "train = X_train.join(y_train).drop_duplicates()\n",
    "# train.to_csv('../data/glavni/train_raw_master.csv')\n",
    "test = X_test.join(y_test).drop_duplicates()\n",
    "# test.to_csv('../data/glavni/test_raw_master.csv')\n",
    "\n",
    "len(set(X_train.index)), len(set(y_train.index)), len(X_test.index), len(y_test.index)\n",
    "\n",
    "\n",
    "# save\n",
    "train.to_csv('../data/glavni/train_raw_master.csv')\n",
    "test.to_csv('../data/glavni/test_raw_master.csv')"
   ]
  },
  {
   "cell_type": "code",
   "execution_count": 22,
   "id": "848c3cce",
   "metadata": {},
   "outputs": [
    {
     "data": {
      "text/plain": [
       "(31799, 25439, 6360)"
      ]
     },
     "execution_count": 22,
     "metadata": {},
     "output_type": "execute_result"
    }
   ],
   "source": [
    "len(data), len(train), len(test)"
   ]
  },
  {
   "cell_type": "code",
   "execution_count": null,
   "id": "324f97a5",
   "metadata": {},
   "outputs": [],
   "source": []
  },
  {
   "attachments": {},
   "cell_type": "markdown",
   "id": "cf91d757",
   "metadata": {},
   "source": [
    "# SPATIAL MASTER"
   ]
  },
  {
   "cell_type": "code",
   "execution_count": 23,
   "id": "a87e47f9",
   "metadata": {},
   "outputs": [],
   "source": [
    "# tmp = data[data['geography code']=='E01029797'].drop_duplicates()"
   ]
  },
  {
   "cell_type": "code",
   "execution_count": 24,
   "id": "da691487",
   "metadata": {},
   "outputs": [],
   "source": [
    "# env_col = [c for c in tmp.columns if c.startswith('e_')]\n",
    "# tmp[env_col].hist(figsize=(20,20));"
   ]
  },
  {
   "cell_type": "code",
   "execution_count": 25,
   "id": "9e36be8b",
   "metadata": {},
   "outputs": [],
   "source": [
    "# duplicated_rows = tmp[tmp.duplicated()]\n",
    "# print(duplicated_rows)"
   ]
  },
  {
   "cell_type": "code",
   "execution_count": null,
   "id": "db42cbe4",
   "metadata": {},
   "outputs": [],
   "source": []
  },
  {
   "attachments": {},
   "cell_type": "markdown",
   "id": "3c2facb4",
   "metadata": {},
   "source": [
    "# Add Region for train test split spatially"
   ]
  },
  {
   "cell_type": "code",
   "execution_count": 26,
   "id": "0fa09e5e",
   "metadata": {},
   "outputs": [],
   "source": [
    "regions = gpd.read_file('../data/GEO_DATA/2021/Regions_(December_2022)_EN_BFC/Regions_(December_2022)_EN_BFC.shp')\n",
    "lsoas = gpd.read_file('../data/GEO_DATA/2021/LSOA_(Dec_2021)_Boundaries_Generalised_Clipped_EW_(BGC)/LSOA_(Dec_2021)_Boundaries_Generalised_Clipped_EW_(BGC).shp')"
   ]
  },
  {
   "cell_type": "code",
   "execution_count": 27,
   "id": "dd61c123",
   "metadata": {},
   "outputs": [],
   "source": [
    "# len(lsoas['LSOA21CD'].unique()), len(lsoas['LSOA21CD'])"
   ]
  },
  {
   "attachments": {},
   "cell_type": "markdown",
   "id": "b98e50ee",
   "metadata": {},
   "source": [
    "# spatial join LSOA REGION"
   ]
  },
  {
   "cell_type": "code",
   "execution_count": 28,
   "id": "206266b7",
   "metadata": {},
   "outputs": [],
   "source": [
    "lsoas_regions = gpd.sjoin(lsoas, regions, predicate='within')"
   ]
  },
  {
   "cell_type": "code",
   "execution_count": 29,
   "id": "76f08293",
   "metadata": {},
   "outputs": [
    {
     "data": {
      "text/plain": [
       "(30523, 30523)"
      ]
     },
     "execution_count": 29,
     "metadata": {},
     "output_type": "execute_result"
    }
   ],
   "source": [
    "len(lsoas_regions['LSOA21CD']), len(set(lsoas_regions['LSOA21CD']))"
   ]
  },
  {
   "cell_type": "code",
   "execution_count": 30,
   "id": "9b4c3bd8",
   "metadata": {},
   "outputs": [],
   "source": [
    "lsoas_regions_mapping = lsoas_regions[['LSOA21CD', 'RGN22CD', 'RGN22NM', 'LSOA21NM']].drop_duplicates()"
   ]
  },
  {
   "attachments": {},
   "cell_type": "markdown",
   "id": "819d2950",
   "metadata": {},
   "source": [
    "## save the mapping"
   ]
  },
  {
   "cell_type": "code",
   "execution_count": 31,
   "id": "1f416e8d",
   "metadata": {},
   "outputs": [],
   "source": [
    "lsoas_regions_mapping.to_csv('../data/glavni/lsoas_regions_mapping.csv', index=None)"
   ]
  },
  {
   "attachments": {},
   "cell_type": "markdown",
   "id": "61b0c04c",
   "metadata": {},
   "source": [
    "## add region to data"
   ]
  },
  {
   "cell_type": "code",
   "execution_count": 32,
   "id": "ab0b583e",
   "metadata": {},
   "outputs": [],
   "source": [
    "spatial_data = data.merge(lsoas_regions_mapping.\\\n",
    "                rename(columns={'LSOA21CD':'geography code', 'RGN22NM':'region'})\\\n",
    "                [['geography code', 'region']],\\\n",
    "                 on='geography code')"
   ]
  },
  {
   "cell_type": "code",
   "execution_count": 33,
   "id": "41e8ef20",
   "metadata": {},
   "outputs": [
    {
     "data": {
      "text/html": [
       "<div>\n",
       "<style scoped>\n",
       "    .dataframe tbody tr th:only-of-type {\n",
       "        vertical-align: middle;\n",
       "    }\n",
       "\n",
       "    .dataframe tbody tr th {\n",
       "        vertical-align: top;\n",
       "    }\n",
       "\n",
       "    .dataframe thead th {\n",
       "        text-align: right;\n",
       "    }\n",
       "</style>\n",
       "<table border=\"1\" class=\"dataframe\">\n",
       "  <thead>\n",
       "    <tr style=\"text-align: right;\">\n",
       "      <th></th>\n",
       "      <th>c_percent asian</th>\n",
       "      <th>c_percent black</th>\n",
       "      <th>c_percent mixed</th>\n",
       "      <th>c_percent white</th>\n",
       "      <th>c_percent christian</th>\n",
       "      <th>c_percent jewish</th>\n",
       "      <th>c_percent no religion</th>\n",
       "      <th>c_percent muslim</th>\n",
       "      <th>c_percent no central heating</th>\n",
       "      <th>c_percent wood heating</th>\n",
       "      <th>...</th>\n",
       "      <th>e_Tree cover</th>\n",
       "      <th>e_Shrubland</th>\n",
       "      <th>e_Grassland</th>\n",
       "      <th>e_Cropland</th>\n",
       "      <th>e_Built-up</th>\n",
       "      <th>e_Bare sparse vegetation</th>\n",
       "      <th>e_Permanent water bodies</th>\n",
       "      <th>e_Herbaceous wetland</th>\n",
       "      <th>e_Moss and lichen</th>\n",
       "      <th>region</th>\n",
       "    </tr>\n",
       "    <tr>\n",
       "      <th>geography code</th>\n",
       "      <th></th>\n",
       "      <th></th>\n",
       "      <th></th>\n",
       "      <th></th>\n",
       "      <th></th>\n",
       "      <th></th>\n",
       "      <th></th>\n",
       "      <th></th>\n",
       "      <th></th>\n",
       "      <th></th>\n",
       "      <th></th>\n",
       "      <th></th>\n",
       "      <th></th>\n",
       "      <th></th>\n",
       "      <th></th>\n",
       "      <th></th>\n",
       "      <th></th>\n",
       "      <th></th>\n",
       "      <th></th>\n",
       "      <th></th>\n",
       "      <th></th>\n",
       "    </tr>\n",
       "  </thead>\n",
       "  <tbody>\n",
       "    <tr>\n",
       "      <th>E01000001</th>\n",
       "      <td>0.107191</td>\n",
       "      <td>0.007463</td>\n",
       "      <td>0.037992</td>\n",
       "      <td>0.801221</td>\n",
       "      <td>0.345763</td>\n",
       "      <td>0.019661</td>\n",
       "      <td>0.483390</td>\n",
       "      <td>0.021695</td>\n",
       "      <td>0.026190</td>\n",
       "      <td>0.000000</td>\n",
       "      <td>...</td>\n",
       "      <td>15.994640</td>\n",
       "      <td>0.0</td>\n",
       "      <td>0.000000</td>\n",
       "      <td>0.000000</td>\n",
       "      <td>82.937771</td>\n",
       "      <td>0.000000</td>\n",
       "      <td>1.067589</td>\n",
       "      <td>0.0</td>\n",
       "      <td>0.0</td>\n",
       "      <td>London</td>\n",
       "    </tr>\n",
       "    <tr>\n",
       "      <th>E01000002</th>\n",
       "      <td>0.130592</td>\n",
       "      <td>0.007937</td>\n",
       "      <td>0.043290</td>\n",
       "      <td>0.782107</td>\n",
       "      <td>0.338150</td>\n",
       "      <td>0.025289</td>\n",
       "      <td>0.491329</td>\n",
       "      <td>0.018786</td>\n",
       "      <td>0.019417</td>\n",
       "      <td>0.001214</td>\n",
       "      <td>...</td>\n",
       "      <td>3.367407</td>\n",
       "      <td>0.0</td>\n",
       "      <td>0.027592</td>\n",
       "      <td>0.000000</td>\n",
       "      <td>96.133342</td>\n",
       "      <td>0.055184</td>\n",
       "      <td>0.416476</td>\n",
       "      <td>0.0</td>\n",
       "      <td>0.0</td>\n",
       "      <td>London</td>\n",
       "    </tr>\n",
       "    <tr>\n",
       "      <th>E01000003</th>\n",
       "      <td>0.094913</td>\n",
       "      <td>0.034739</td>\n",
       "      <td>0.062655</td>\n",
       "      <td>0.741315</td>\n",
       "      <td>0.340360</td>\n",
       "      <td>0.026658</td>\n",
       "      <td>0.479851</td>\n",
       "      <td>0.030998</td>\n",
       "      <td>0.035329</td>\n",
       "      <td>0.000000</td>\n",
       "      <td>...</td>\n",
       "      <td>14.992813</td>\n",
       "      <td>0.0</td>\n",
       "      <td>0.108761</td>\n",
       "      <td>0.000000</td>\n",
       "      <td>84.898426</td>\n",
       "      <td>0.000000</td>\n",
       "      <td>0.000000</td>\n",
       "      <td>0.0</td>\n",
       "      <td>0.0</td>\n",
       "      <td>London</td>\n",
       "    </tr>\n",
       "    <tr>\n",
       "      <th>E01000005</th>\n",
       "      <td>0.321526</td>\n",
       "      <td>0.108084</td>\n",
       "      <td>0.071753</td>\n",
       "      <td>0.385104</td>\n",
       "      <td>0.367514</td>\n",
       "      <td>0.012704</td>\n",
       "      <td>0.221416</td>\n",
       "      <td>0.309437</td>\n",
       "      <td>0.012526</td>\n",
       "      <td>0.000000</td>\n",
       "      <td>...</td>\n",
       "      <td>1.286766</td>\n",
       "      <td>0.0</td>\n",
       "      <td>0.065390</td>\n",
       "      <td>0.000000</td>\n",
       "      <td>98.647845</td>\n",
       "      <td>0.000000</td>\n",
       "      <td>0.000000</td>\n",
       "      <td>0.0</td>\n",
       "      <td>0.0</td>\n",
       "      <td>London</td>\n",
       "    </tr>\n",
       "    <tr>\n",
       "      <th>E01000006</th>\n",
       "      <td>0.479675</td>\n",
       "      <td>0.108401</td>\n",
       "      <td>0.037940</td>\n",
       "      <td>0.327913</td>\n",
       "      <td>0.371614</td>\n",
       "      <td>0.000542</td>\n",
       "      <td>0.070423</td>\n",
       "      <td>0.391116</td>\n",
       "      <td>0.027076</td>\n",
       "      <td>0.000000</td>\n",
       "      <td>...</td>\n",
       "      <td>11.504611</td>\n",
       "      <td>0.0</td>\n",
       "      <td>3.877869</td>\n",
       "      <td>0.215842</td>\n",
       "      <td>84.401679</td>\n",
       "      <td>0.000000</td>\n",
       "      <td>0.000000</td>\n",
       "      <td>0.0</td>\n",
       "      <td>0.0</td>\n",
       "      <td>London</td>\n",
       "    </tr>\n",
       "  </tbody>\n",
       "</table>\n",
       "<p>5 rows × 104 columns</p>\n",
       "</div>"
      ],
      "text/plain": [
       "                c_percent asian  c_percent black  c_percent mixed  \\\n",
       "geography code                                                      \n",
       "E01000001              0.107191         0.007463         0.037992   \n",
       "E01000002              0.130592         0.007937         0.043290   \n",
       "E01000003              0.094913         0.034739         0.062655   \n",
       "E01000005              0.321526         0.108084         0.071753   \n",
       "E01000006              0.479675         0.108401         0.037940   \n",
       "\n",
       "                c_percent white  c_percent christian  c_percent jewish  \\\n",
       "geography code                                                           \n",
       "E01000001              0.801221             0.345763          0.019661   \n",
       "E01000002              0.782107             0.338150          0.025289   \n",
       "E01000003              0.741315             0.340360          0.026658   \n",
       "E01000005              0.385104             0.367514          0.012704   \n",
       "E01000006              0.327913             0.371614          0.000542   \n",
       "\n",
       "                c_percent no religion  c_percent muslim  \\\n",
       "geography code                                            \n",
       "E01000001                    0.483390          0.021695   \n",
       "E01000002                    0.491329          0.018786   \n",
       "E01000003                    0.479851          0.030998   \n",
       "E01000005                    0.221416          0.309437   \n",
       "E01000006                    0.070423          0.391116   \n",
       "\n",
       "                c_percent no central heating  c_percent wood heating  ...  \\\n",
       "geography code                                                        ...   \n",
       "E01000001                           0.026190                0.000000  ...   \n",
       "E01000002                           0.019417                0.001214  ...   \n",
       "E01000003                           0.035329                0.000000  ...   \n",
       "E01000005                           0.012526                0.000000  ...   \n",
       "E01000006                           0.027076                0.000000  ...   \n",
       "\n",
       "                e_Tree cover  e_Shrubland  e_Grassland  e_Cropland  \\\n",
       "geography code                                                       \n",
       "E01000001          15.994640          0.0     0.000000    0.000000   \n",
       "E01000002           3.367407          0.0     0.027592    0.000000   \n",
       "E01000003          14.992813          0.0     0.108761    0.000000   \n",
       "E01000005           1.286766          0.0     0.065390    0.000000   \n",
       "E01000006          11.504611          0.0     3.877869    0.215842   \n",
       "\n",
       "                e_Built-up  e_Bare sparse vegetation  \\\n",
       "geography code                                         \n",
       "E01000001        82.937771                  0.000000   \n",
       "E01000002        96.133342                  0.055184   \n",
       "E01000003        84.898426                  0.000000   \n",
       "E01000005        98.647845                  0.000000   \n",
       "E01000006        84.401679                  0.000000   \n",
       "\n",
       "                e_Permanent water bodies  e_Herbaceous wetland  \\\n",
       "geography code                                                   \n",
       "E01000001                       1.067589                   0.0   \n",
       "E01000002                       0.416476                   0.0   \n",
       "E01000003                       0.000000                   0.0   \n",
       "E01000005                       0.000000                   0.0   \n",
       "E01000006                       0.000000                   0.0   \n",
       "\n",
       "                e_Moss and lichen  region  \n",
       "geography code                             \n",
       "E01000001                     0.0  London  \n",
       "E01000002                     0.0  London  \n",
       "E01000003                     0.0  London  \n",
       "E01000005                     0.0  London  \n",
       "E01000006                     0.0  London  \n",
       "\n",
       "[5 rows x 104 columns]"
      ]
     },
     "execution_count": 33,
     "metadata": {},
     "output_type": "execute_result"
    }
   ],
   "source": [
    "spatial_data = spatial_data.set_index('geography code')\n",
    "spatial_data.head()"
   ]
  },
  {
   "cell_type": "code",
   "execution_count": 34,
   "id": "123b9644",
   "metadata": {},
   "outputs": [
    {
     "data": {
      "text/plain": [
       "28777"
      ]
     },
     "execution_count": 34,
     "metadata": {},
     "output_type": "execute_result"
    }
   ],
   "source": [
    "len(spatial_data)"
   ]
  },
  {
   "attachments": {},
   "cell_type": "markdown",
   "id": "d3bad3f1",
   "metadata": {},
   "source": [
    "## save spatial master"
   ]
  },
  {
   "cell_type": "code",
   "execution_count": 35,
   "id": "644984de",
   "metadata": {},
   "outputs": [],
   "source": [
    "spatial_data.to_csv('../data/glavni/spatial_raw_master.csv')"
   ]
  },
  {
   "cell_type": "code",
   "execution_count": null,
   "id": "2feb33b6",
   "metadata": {},
   "outputs": [],
   "source": []
  },
  {
   "cell_type": "code",
   "execution_count": null,
   "id": "c38f86e0",
   "metadata": {},
   "outputs": [],
   "source": []
  },
  {
   "cell_type": "code",
   "execution_count": null,
   "id": "21cb3e13",
   "metadata": {
    "scrolled": false
   },
   "outputs": [],
   "source": []
  },
  {
   "attachments": {},
   "cell_type": "markdown",
   "id": "5d9ff05b",
   "metadata": {},
   "source": [
    "# Inspect Raw Data"
   ]
  },
  {
   "cell_type": "code",
   "execution_count": null,
   "id": "a6efbd40",
   "metadata": {},
   "outputs": [],
   "source": [
    "data.hist(figsize=(35,60), layout=(24,5));"
   ]
  },
  {
   "cell_type": "code",
   "execution_count": null,
   "id": "6b48fc69",
   "metadata": {},
   "outputs": [],
   "source": []
  },
  {
   "cell_type": "code",
   "execution_count": null,
   "id": "9f7957d6",
   "metadata": {},
   "outputs": [],
   "source": []
  },
  {
   "cell_type": "code",
   "execution_count": null,
   "id": "ab661c5a",
   "metadata": {},
   "outputs": [],
   "source": [
    "raw_data = pd.read_csv('../data/glavni/raw_master.csv')\n",
    "data= raw_data.copy()"
   ]
  },
  {
   "attachments": {},
   "cell_type": "markdown",
   "id": "02de84b3",
   "metadata": {},
   "source": [
    "# Log Data"
   ]
  },
  {
   "cell_type": "code",
   "execution_count": null,
   "id": "6dc26ad5",
   "metadata": {},
   "outputs": [],
   "source": [
    "columns_to_log_part1 = ['c_percent asian', 'c_percent black',\\\n",
    "                 'c_percent jewish','c_percent muslim', 'c_percent no central heating',\\\n",
    "                 'c_percent communal heating', 'c_percent TFW 60km and over',\\\n",
    "                 'c_percent commute bus', 'c_percent commute bicycle',\\\n",
    "                 'c_percent poor-english', \\\n",
    "                 'c_percent highly-deprived',]\n",
    "\n",
    "columns_to_log_part2 = ['o_OME_per_capita', 'c_pop_density',\\\n",
    "                     'o_total_quantity_per_capita','c_total population']\n",
    "\n",
    "columns_to_log_part3 = ['percent same address', 'percent student moved to address',\\\n",
    "                        'percent occupancy rating bedrooms: 0', 'percent occupancy rating bedrooms: -2',\\\n",
    "                        'percent occupancy rating rooms: 0', 'percent occupancy rating rooms: -2',\\\n",
    "                        'percent 1. Managers, directors and senior officials', 'percent 2. Professional occupations',\\\n",
    "                        'percent 6. Caring, leisure and other service occupations', 'percent 7. Sales and customer service occupations',\\\n",
    "                        'percent 9. Elementary occupations', \\\n",
    "                        'percent born in the UK', 'percent 10 years or more',\\\n",
    "                        'percent 2 years or more, but less than 5 years',\\\n",
    "                        'percent less than 2 years']\n",
    "columns_to_log_part3 = ['c_'+c for c in columns_to_log_part3]\n",
    "\n",
    "columns_to_log_part4 = ['e_snow_cover', 'e_snow_depth', 'e_surface_net_solar_radiation_sum',\\\n",
    "                        'e_surface_solar_radiation_downwards_sum', 'e_evaporation_from_the_top_of_canopy_sum',\\\n",
    "                        'e_evaporation_from_open_water_surfaces_excluding_oceans_sum',\\\n",
    "                        'e_total_precipitation_sum', 'e_surface_runoff_sum', \\\n",
    "                        'e_Tree cover', 'e_Shrubland', 'e_Grassland', 'e_Cropland',\\\n",
    "                        'e_Built-up', 'e_Bare sparse vegetation', \\\n",
    "                        'e_Permanent water bodies', 'e_Herbaceous wetland', \\\n",
    "                        'e_Moss and lichen', 'e_surface_pressure']"
   ]
  },
  {
   "cell_type": "code",
   "execution_count": null,
   "id": "8853dd4c",
   "metadata": {},
   "outputs": [],
   "source": [
    "data_logged = data.copy()\n",
    "for c in columns_to_log_part1:\n",
    "    data_logged[c] = data[c].apply(lambda x: np.log(x+0.01))"
   ]
  },
  {
   "cell_type": "code",
   "execution_count": null,
   "id": "fa3386af",
   "metadata": {},
   "outputs": [],
   "source": [
    "# data_logged = data.copy()\n",
    "for c in columns_to_log_part2:\n",
    "    data_logged[c] = data[c].apply(lambda x: np.log(x))"
   ]
  },
  {
   "cell_type": "code",
   "execution_count": null,
   "id": "66549adb",
   "metadata": {},
   "outputs": [],
   "source": [
    "# data_logged = data.copy()\n",
    "for c in columns_to_log_part3:\n",
    "    data_logged[c] = data[c].apply(lambda x: np.log(x+0.01))"
   ]
  },
  {
   "cell_type": "code",
   "execution_count": null,
   "id": "096c687d",
   "metadata": {},
   "outputs": [],
   "source": [
    "# data_logged = data.copy()\n",
    "for c in columns_to_log_part4:\n",
    "    data_logged[c] = data[c].apply(lambda x: np.log(x+1))"
   ]
  },
  {
   "cell_type": "code",
   "execution_count": null,
   "id": "bcc2bc77",
   "metadata": {},
   "outputs": [],
   "source": []
  },
  {
   "cell_type": "code",
   "execution_count": null,
   "id": "61d82343",
   "metadata": {},
   "outputs": [],
   "source": [
    "data_logged.hist(figsize=(35,60), layout=(24,5));"
   ]
  },
  {
   "cell_type": "code",
   "execution_count": null,
   "id": "fbebbaa0",
   "metadata": {},
   "outputs": [],
   "source": []
  },
  {
   "attachments": {},
   "cell_type": "markdown",
   "id": "1ab3fc3c",
   "metadata": {},
   "source": [
    "## Save Logged Master"
   ]
  },
  {
   "cell_type": "code",
   "execution_count": null,
   "id": "6b189105",
   "metadata": {},
   "outputs": [],
   "source": [
    "data_logged.to_csv('../data/glavni/log_master.csv', index=None)"
   ]
  },
  {
   "cell_type": "code",
   "execution_count": null,
   "id": "7ae783a2",
   "metadata": {},
   "outputs": [],
   "source": []
  },
  {
   "attachments": {},
   "cell_type": "markdown",
   "id": "706cbfd1",
   "metadata": {},
   "source": [
    "# Standardize"
   ]
  },
  {
   "cell_type": "code",
   "execution_count": null,
   "id": "5080c265",
   "metadata": {},
   "outputs": [],
   "source": [
    "data_standardized = data_logged.copy()\n",
    "\n",
    "features_ztransform = [c for c in data_standardized.columns if not c in ['geography code', 'geography']]\n",
    "\n",
    "for k in features_ztransform:\n",
    "    data_standardized[k] = (data_standardized[k] -\\\n",
    "            data_standardized[k].mean())/data_standardized[k].std(ddof=0)"
   ]
  },
  {
   "cell_type": "code",
   "execution_count": null,
   "id": "f6c64023",
   "metadata": {},
   "outputs": [],
   "source": []
  },
  {
   "cell_type": "code",
   "execution_count": null,
   "id": "9cde69eb",
   "metadata": {},
   "outputs": [],
   "source": [
    "data_standardized.hist(figsize=(35,60), layout=(24,5));"
   ]
  },
  {
   "cell_type": "code",
   "execution_count": null,
   "id": "7e84294d",
   "metadata": {},
   "outputs": [],
   "source": []
  },
  {
   "cell_type": "code",
   "execution_count": null,
   "id": "a917a0a5",
   "metadata": {},
   "outputs": [],
   "source": []
  },
  {
   "attachments": {},
   "cell_type": "markdown",
   "id": "b8e98cdb",
   "metadata": {},
   "source": [
    "# Save"
   ]
  },
  {
   "cell_type": "code",
   "execution_count": null,
   "id": "4041c4fd",
   "metadata": {},
   "outputs": [],
   "source": [
    "data_standardized.to_csv('../data/glavni/standardized_master.csv', index=None)"
   ]
  },
  {
   "cell_type": "code",
   "execution_count": null,
   "id": "16ad7aa9",
   "metadata": {},
   "outputs": [],
   "source": []
  },
  {
   "attachments": {},
   "cell_type": "markdown",
   "id": "c800c3f7",
   "metadata": {},
   "source": [
    "# MinMax Normalize"
   ]
  },
  {
   "cell_type": "code",
   "execution_count": null,
   "id": "082ce1b5",
   "metadata": {
    "scrolled": false
   },
   "outputs": [],
   "source": [
    "data_normalized = data_logged.copy().dropna()\n",
    "\n",
    "features_transform = [c for c in data_normalized.columns if not c in ['geography code', 'geography']]\n",
    "\n",
    "scaler = MinMaxScaler()\n",
    "\n",
    "data_normalized[features_transform] = scaler.fit_transform(data_normalized[features_transform])"
   ]
  },
  {
   "cell_type": "code",
   "execution_count": null,
   "id": "1e5cac0f",
   "metadata": {},
   "outputs": [],
   "source": []
  },
  {
   "cell_type": "code",
   "execution_count": null,
   "id": "d9f6d05d",
   "metadata": {},
   "outputs": [],
   "source": [
    "data_normalized.describe()"
   ]
  },
  {
   "cell_type": "code",
   "execution_count": null,
   "id": "ffcd26df",
   "metadata": {},
   "outputs": [],
   "source": []
  },
  {
   "cell_type": "code",
   "execution_count": null,
   "id": "e38eb581",
   "metadata": {},
   "outputs": [],
   "source": [
    "data_normalized.hist(figsize=(35,60), layout=(24,5));"
   ]
  },
  {
   "cell_type": "code",
   "execution_count": null,
   "id": "1bca9b56",
   "metadata": {},
   "outputs": [],
   "source": []
  },
  {
   "cell_type": "code",
   "execution_count": null,
   "id": "5d6580da",
   "metadata": {},
   "outputs": [],
   "source": [
    "data_normalized.to_csv('../data/glavni/normalized_master.csv', index=None)"
   ]
  },
  {
   "cell_type": "code",
   "execution_count": null,
   "id": "17e5c251",
   "metadata": {},
   "outputs": [],
   "source": []
  }
 ],
 "metadata": {
  "kernelspec": {
   "display_name": "Python 3 (ipykernel)",
   "language": "python",
   "name": "python3"
  },
  "language_info": {
   "codemirror_mode": {
    "name": "ipython",
    "version": 3
   },
   "file_extension": ".py",
   "mimetype": "text/x-python",
   "name": "python",
   "nbconvert_exporter": "python",
   "pygments_lexer": "ipython3",
   "version": "3.11.0"
  }
 },
 "nbformat": 4,
 "nbformat_minor": 5
}
